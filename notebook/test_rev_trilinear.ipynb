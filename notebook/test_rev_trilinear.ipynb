{
 "cells": [
  {
   "cell_type": "code",
   "execution_count": 15,
   "metadata": {},
   "outputs": [],
   "source": [
    "import torch\n",
    "import numpy as np\n",
    "import matplotlib.pyplot as plt\n",
    "import sys\n",
    "import os"
   ]
  },
  {
   "cell_type": "code",
   "execution_count": 19,
   "metadata": {},
   "outputs": [],
   "source": [
    "# -----------------------------\n",
    "# add \"src\" as import path\n",
    "path = os.path.join('/home/tsuyoshi/local_transformation_model/src')\n",
    "sys.path.append(path)"
   ]
  },
  {
   "cell_type": "code",
   "execution_count": 30,
   "metadata": {
    "scrolled": false
   },
   "outputs": [],
   "source": [
    "#import models.convolution_lstm_mod\n",
    "import rev_trilinear\n",
    "from src_rev_trilinear.rev_trilinear_interp import RevTrilinear"
   ]
  },
  {
   "cell_type": "code",
   "execution_count": 31,
   "metadata": {},
   "outputs": [
    {
     "data": {
      "text/plain": [
       "['/home/tsuyoshi/local_transformation_model/notebook',\n",
       " '/home/tsuyoshi/miniconda3/envs/pytorch/lib/python37.zip',\n",
       " '/home/tsuyoshi/miniconda3/envs/pytorch/lib/python3.7',\n",
       " '/home/tsuyoshi/miniconda3/envs/pytorch/lib/python3.7/lib-dynload',\n",
       " '',\n",
       " '/home/tsuyoshi/miniconda3/envs/pytorch/lib/python3.7/site-packages',\n",
       " '/home/tsuyoshi/miniconda3/envs/pytorch/lib/python3.7/site-packages/pretrainedmodels-0.7.4-py3.7.egg',\n",
       " '/home/tsuyoshi/miniconda3/envs/pytorch/lib/python3.7/site-packages/munch-2.5.1.dev12-py3.7.egg',\n",
       " '/home/tsuyoshi/miniconda3/envs/pytorch/lib/python3.7/site-packages/grid_average-0.0.0-py3.7-linux-x86_64.egg',\n",
       " '/home/tsuyoshi/miniconda3/envs/pytorch/lib/python3.7/site-packages/rev_trilinear-0.0.0-py3.7-linux-x86_64.egg',\n",
       " '/home/tsuyoshi/miniconda3/envs/pytorch/lib/python3.7/site-packages/IPython/extensions',\n",
       " '/home/tsuyoshi/.ipython',\n",
       " '../src',\n",
       " '/home/tsuyoshi/local_transformation_model/src']"
      ]
     },
     "execution_count": 31,
     "metadata": {},
     "output_type": "execute_result"
    }
   ],
   "source": [
    "sys.path"
   ]
  },
  {
   "cell_type": "code",
   "execution_count": 32,
   "metadata": {},
   "outputs": [],
   "source": [
    "pc = torch.rand(1, 3, 6, dtype=torch.float32, requires_grad=True).cuda()\n",
    "pc_value = torch.rand(1, 1, 6, dtype=torch.float32, requires_grad=True).cuda()"
   ]
  },
  {
   "cell_type": "code",
   "execution_count": 33,
   "metadata": {},
   "outputs": [
    {
     "data": {
      "text/plain": [
       "torch.Size([1, 3, 6])"
      ]
     },
     "execution_count": 33,
     "metadata": {},
     "output_type": "execute_result"
    }
   ],
   "source": [
    "# x,y,z for 6 points\n",
    "pc.shape"
   ]
  },
  {
   "cell_type": "code",
   "execution_count": 34,
   "metadata": {},
   "outputs": [
    {
     "data": {
      "text/plain": [
       "torch.Size([1, 1, 6])"
      ]
     },
     "execution_count": 34,
     "metadata": {},
     "output_type": "execute_result"
    }
   ],
   "source": [
    "# value for 6 points\n",
    "pc_value.shape"
   ]
  },
  {
   "cell_type": "code",
   "execution_count": 35,
   "metadata": {},
   "outputs": [
    {
     "data": {
      "text/plain": [
       "tensor([[[0.1533, 0.8761, 0.6889, 0.4260, 0.1301, 0.7373]]], device='cuda:0',\n",
       "       grad_fn=<CopyBackwards>)"
      ]
     },
     "execution_count": 35,
     "metadata": {},
     "output_type": "execute_result"
    }
   ],
   "source": [
    "pc.requires_grad_(True)\n",
    "pc_value.requires_grad_(True)"
   ]
  },
  {
   "cell_type": "code",
   "execution_count": 39,
   "metadata": {},
   "outputs": [],
   "source": [
    "grid_value = RevTrilinear.apply(pc, pc_value, 4)"
   ]
  },
  {
   "cell_type": "code",
   "execution_count": 40,
   "metadata": {},
   "outputs": [
    {
     "data": {
      "text/plain": [
       "torch.Size([1, 1, 4, 4, 4])"
      ]
     },
     "execution_count": 40,
     "metadata": {},
     "output_type": "execute_result"
    }
   ],
   "source": [
    "grid_value.shape"
   ]
  },
  {
   "cell_type": "code",
   "execution_count": null,
   "metadata": {},
   "outputs": [],
   "source": []
  }
 ],
 "metadata": {
  "kernelspec": {
   "display_name": "pytorch",
   "language": "python",
   "name": "pytorch"
  },
  "language_info": {
   "codemirror_mode": {
    "name": "ipython",
    "version": 3
   },
   "file_extension": ".py",
   "mimetype": "text/x-python",
   "name": "python",
   "nbconvert_exporter": "python",
   "pygments_lexer": "ipython3",
   "version": "3.7.5"
  }
 },
 "nbformat": 4,
 "nbformat_minor": 4
}

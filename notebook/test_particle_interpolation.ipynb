{
 "cells": [
  {
   "cell_type": "markdown",
   "metadata": {},
   "source": [
    "# test for particle interpolation functions"
   ]
  },
  {
   "cell_type": "code",
   "execution_count": 1,
   "metadata": {},
   "outputs": [],
   "source": [
    "import torch\n",
    "import numpy as np\n",
    "import matplotlib.pyplot as plt"
   ]
  },
  {
   "cell_type": "code",
   "execution_count": 2,
   "metadata": {},
   "outputs": [],
   "source": [
    "# plot a 2-d field\n",
    "def plot_field(X,title,vmin=0,vmax=1):\n",
    "    plt.imshow(X,vmin=vmin,vmax=vmax,cmap=\"GnBu\",origin='lower')\n",
    "    plt.colorbar()\n",
    "    plt.grid()\n",
    "    plt.title(title)\n",
    "    plt.show()"
   ]
  },
  {
   "cell_type": "code",
   "execution_count": 3,
   "metadata": {},
   "outputs": [],
   "source": [
    "# plot a uv vector field\n",
    "def plot_vector_field(X,U,V,title,vmin=0,vmax=1):\n",
    "    # image\n",
    "    plt.imshow(X,vmin=vmin,vmax=vmax,cmap=\"GnBu\",origin='lower')\n",
    "    plt.colorbar()\n",
    "    plt.grid()\n",
    "    plt.title(title)\n",
    "    # UV field\n",
    "    H, W = U.shape\n",
    "    X, Y = np.meshgrid(np.arange(0, H, 1), np.arange(0, W, 1))\n",
    "    n = 3\n",
    "    plt.quiver(X[::n,::n], Y[::n,::n], \n",
    "               U[::n,::n], V[::n,::n], units='xy' ,scale=2, color='red')\n",
    "    # \n",
    "    plt.show()"
   ]
  },
  {
   "cell_type": "code",
   "execution_count": 4,
   "metadata": {},
   "outputs": [],
   "source": [
    "device = torch.device(\"cpu\")\n",
    "# input: B, C, H, W\n",
    "# flow: [B, 2, H, W]\n",
    "def warp(input, flow):\n",
    "    B, C, H, W = input.size()\n",
    "    # mesh grid\n",
    "    xx = torch.arange(0, W).view(1, -1).repeat(H, 1).to(device)\n",
    "    yy = torch.arange(0, H).view(-1, 1).repeat(1, W).to(device)\n",
    "    xx = xx.view(1, 1, H, W).repeat(B, 1, 1, 1)\n",
    "    yy = yy.view(1, 1, H, W).repeat(B, 1, 1, 1)\n",
    "    grid = torch.cat((xx, yy), 1).float()\n",
    "    vgrid = grid + flow\n",
    "\n",
    "    # scale grid to [-1,1]\n",
    "    vgrid[:, 0, :, :] = 2.0 * vgrid[:, 0, :, :].clone() / max(W - 1, 1) - 1.0\n",
    "    vgrid[:, 1, :, :] = 2.0 * vgrid[:, 1, :, :].clone() / max(H - 1, 1) - 1.0\n",
    "    vgrid = vgrid.permute(0, 2, 3, 1)\n",
    "    output = torch.nn.functional.grid_sample(input, vgrid)\n",
    "    return output"
   ]
  },
  {
   "cell_type": "markdown",
   "metadata": {},
   "source": [
    "Then, we set parameters."
   ]
  },
  {
   "cell_type": "code",
   "execution_count": 5,
   "metadata": {},
   "outputs": [],
   "source": [
    "# define size\n",
    "height = 50\n",
    "width = 50\n",
    "# define position of circle\n",
    "ic = 25\n",
    "jc = 25\n",
    "# spatial scale\n",
    "scale = 5\n",
    "# velocity\n",
    "u = 5.0\n",
    "v = 5.0"
   ]
  },
  {
   "cell_type": "markdown",
   "metadata": {},
   "source": [
    "After this, we begin to create the initial field"
   ]
  },
  {
   "cell_type": "code",
   "execution_count": 160,
   "metadata": {},
   "outputs": [],
   "source": [
    "# create initial field\n",
    "R = torch.zeros(1,1,height,width)"
   ]
  },
  {
   "cell_type": "code",
   "execution_count": 161,
   "metadata": {},
   "outputs": [],
   "source": [
    "# create xy grid\n",
    "xx = torch.arange(0, width).view(1, -1).repeat(height, 1).float()\n",
    "yy = torch.arange(0, height).view(-1, 1).repeat(1, width).float()"
   ]
  },
  {
   "cell_type": "code",
   "execution_count": 162,
   "metadata": {},
   "outputs": [
    {
     "data": {
      "text/plain": [
       "tensor([[-25., -24., -23.,  ...,  22.,  23.,  24.],\n",
       "        [-25., -24., -23.,  ...,  22.,  23.,  24.],\n",
       "        [-25., -24., -23.,  ...,  22.,  23.,  24.],\n",
       "        ...,\n",
       "        [-25., -24., -23.,  ...,  22.,  23.,  24.],\n",
       "        [-25., -24., -23.,  ...,  22.,  23.,  24.],\n",
       "        [-25., -24., -23.,  ...,  22.,  23.,  24.]])"
      ]
     },
     "execution_count": 162,
     "metadata": {},
     "output_type": "execute_result"
    }
   ],
   "source": [
    "xx-ic"
   ]
  },
  {
   "cell_type": "code",
   "execution_count": 163,
   "metadata": {},
   "outputs": [
    {
     "data": {
      "text/plain": [
       "tensor([[-25., -25., -25.,  ..., -25., -25., -25.],\n",
       "        [-24., -24., -24.,  ..., -24., -24., -24.],\n",
       "        [-23., -23., -23.,  ..., -23., -23., -23.],\n",
       "        ...,\n",
       "        [ 22.,  22.,  22.,  ...,  22.,  22.,  22.],\n",
       "        [ 23.,  23.,  23.,  ...,  23.,  23.,  23.],\n",
       "        [ 24.,  24.,  24.,  ...,  24.,  24.,  24.]])"
      ]
     },
     "execution_count": 163,
     "metadata": {},
     "output_type": "execute_result"
    }
   ],
   "source": [
    "yy-jc"
   ]
  },
  {
   "cell_type": "code",
   "execution_count": 164,
   "metadata": {},
   "outputs": [],
   "source": [
    "R[0,0,:,:] = torch.exp(-((xx-ic)**2 + (yy-ic)**2)/scale**2)"
   ]
  },
  {
   "cell_type": "code",
   "execution_count": 165,
   "metadata": {},
   "outputs": [
    {
     "data": {
      "text/plain": [
       "(tensor(1.), tensor(1.9287e-22))"
      ]
     },
     "execution_count": 165,
     "metadata": {},
     "output_type": "execute_result"
    }
   ],
   "source": [
    "# max value and min value\n",
    "R.max(), R.min()"
   ]
  },
  {
   "cell_type": "code",
   "execution_count": 166,
   "metadata": {},
   "outputs": [
    {
     "data": {
      "text/plain": [
       "<matplotlib.image.AxesImage at 0x7fa91c088d50>"
      ]
     },
     "execution_count": 166,
     "metadata": {},
     "output_type": "execute_result"
    },
    {
     "data": {
      "image/png": "[encoded data removed]",
      "text/plain": [
       "<Figure size 432x288 with 1 Axes>"
      ]
     },
     "metadata": {
      "needs_background": "light"
     },
     "output_type": "display_data"
    }
   ],
   "source": [
    "# plot on a grid\n",
    "plt.imshow(R[0,0,:,:].numpy())"
   ]
  },
  {
   "cell_type": "markdown",
   "metadata": {},
   "source": [
    "We now move the field with warp() function."
   ]
  },
  {
   "cell_type": "code",
   "execution_count": 167,
   "metadata": {},
   "outputs": [],
   "source": [
    "U = torch.ones(1,1,height,width)*u\n",
    "V = torch.ones(1,1,height,width)*v\n",
    "UV = torch.cat((U,V),dim=1)"
   ]
  },
  {
   "cell_type": "code",
   "execution_count": 168,
   "metadata": {},
   "outputs": [
    {
     "data": {
      "text/plain": [
       "tensor([[[[5., 5., 5.,  ..., 5., 5., 5.],\n",
       "          [5., 5., 5.,  ..., 5., 5., 5.],\n",
       "          [5., 5., 5.,  ..., 5., 5., 5.],\n",
       "          ...,\n",
       "          [5., 5., 5.,  ..., 5., 5., 5.],\n",
       "          [5., 5., 5.,  ..., 5., 5., 5.],\n",
       "          [5., 5., 5.,  ..., 5., 5., 5.]]]])"
      ]
     },
     "execution_count": 168,
     "metadata": {},
     "output_type": "execute_result"
    }
   ],
   "source": [
    "U"
   ]
  },
  {
   "cell_type": "code",
   "execution_count": 169,
   "metadata": {},
   "outputs": [
    {
     "data": {
      "text/plain": [
       "tensor([[[[5., 5., 5.,  ..., 5., 5., 5.],\n",
       "          [5., 5., 5.,  ..., 5., 5., 5.],\n",
       "          [5., 5., 5.,  ..., 5., 5., 5.],\n",
       "          ...,\n",
       "          [5., 5., 5.,  ..., 5., 5., 5.],\n",
       "          [5., 5., 5.,  ..., 5., 5., 5.],\n",
       "          [5., 5., 5.,  ..., 5., 5., 5.]]]])"
      ]
     },
     "execution_count": 169,
     "metadata": {},
     "output_type": "execute_result"
    }
   ],
   "source": [
    "V"
   ]
  },
  {
   "cell_type": "code",
   "execution_count": 170,
   "metadata": {},
   "outputs": [
    {
     "data": {
      "text/plain": [
       "torch.Size([1, 2, 50, 50])"
      ]
     },
     "execution_count": 170,
     "metadata": {},
     "output_type": "execute_result"
    }
   ],
   "source": [
    "UV.shape"
   ]
  },
  {
   "cell_type": "code",
   "execution_count": 171,
   "metadata": {},
   "outputs": [],
   "source": [
    "Rw = warp(R, -UV)"
   ]
  },
  {
   "cell_type": "markdown",
   "metadata": {},
   "source": [
    "align corners = True, Falseの違いは以下の通り。今回はFalseのままで良いような気がする。\n",
    "\n",
    "https://discuss.pytorch.org/t/what-we-should-use-align-corners-false/22663/9"
   ]
  },
  {
   "cell_type": "code",
   "execution_count": 172,
   "metadata": {},
   "outputs": [
    {
     "data": {
      "image/png": "[encoded data removed]",
      "text/plain": [
       "<Figure size 432x288 with 2 Axes>"
      ]
     },
     "metadata": {
      "needs_background": "light"
     },
     "output_type": "display_data"
    },
    {
     "data": {
      "image/png": "[encoded data removed]",
      "text/plain": [
       "<Figure size 432x288 with 2 Axes>"
      ]
     },
     "metadata": {
      "needs_background": "light"
     },
     "output_type": "display_data"
    },
    {
     "data": {
      "image/png": "[encoded data removed]",
      "text/plain": [
       "<Figure size 432x288 with 2 Axes>"
      ]
     },
     "metadata": {
      "needs_background": "light"
     },
     "output_type": "display_data"
    }
   ],
   "source": [
    "# plot on a grid\n",
    "plot_field(R[0,0,:,:].numpy(),\"original\")\n",
    "# plot on a grid\n",
    "plot_field(Rw[0,0,:,:].numpy(),\"warped\")\n",
    "# plot on a grid\n",
    "plot_field((Rw[0,0,:,:]-R[0,0,:,:]).numpy(),\"diff\",vmin=-1,vmax=1)"
   ]
  },
  {
   "cell_type": "code",
   "execution_count": 195,
   "metadata": {},
   "outputs": [
    {
     "data": {
      "image/png": "[encoded data removed]",
      "text/plain": [
       "<Figure size 432x288 with 2 Axes>"
      ]
     },
     "metadata": {
      "needs_background": "light"
     },
     "output_type": "display_data"
    }
   ],
   "source": [
    "# plot on a grid\n",
    "plot_vector_field(R[0,0,:,:].numpy(),UV[0,0,:,:].numpy(),\n",
    "                  UV[0,1,:,:].numpy(),\"original\")"
   ]
  },
  {
   "cell_type": "code",
   "execution_count": 178,
   "metadata": {},
   "outputs": [
    {
     "data": {
      "text/plain": [
       "tensor([[[[5., 5., 5.,  ..., 5., 5., 5.],\n",
       "          [5., 5., 5.,  ..., 5., 5., 5.],\n",
       "          [5., 5., 5.,  ..., 5., 5., 5.],\n",
       "          ...,\n",
       "          [5., 5., 5.,  ..., 5., 5., 5.],\n",
       "          [5., 5., 5.,  ..., 5., 5., 5.],\n",
       "          [5., 5., 5.,  ..., 5., 5., 5.]],\n",
       "\n",
       "         [[5., 5., 5.,  ..., 5., 5., 5.],\n",
       "          [5., 5., 5.,  ..., 5., 5., 5.],\n",
       "          [5., 5., 5.,  ..., 5., 5., 5.],\n",
       "          ...,\n",
       "          [5., 5., 5.,  ..., 5., 5., 5.],\n",
       "          [5., 5., 5.,  ..., 5., 5., 5.],\n",
       "          [5., 5., 5.,  ..., 5., 5., 5.]]]])"
      ]
     },
     "execution_count": 178,
     "metadata": {},
     "output_type": "execute_result"
    }
   ],
   "source": [
    "UV"
   ]
  },
  {
   "cell_type": "code",
   "execution_count": 182,
   "metadata": {},
   "outputs": [],
   "source": [
    "z = np.zeros((5,5))"
   ]
  },
  {
   "cell_type": "code",
   "execution_count": 183,
   "metadata": {},
   "outputs": [
    {
     "data": {
      "text/plain": [
       "array([[0., 0., 0., 0., 0.],\n",
       "       [0., 0., 0., 0., 0.],\n",
       "       [0., 0., 0., 0., 0.],\n",
       "       [0., 0., 0., 0., 0.],\n",
       "       [0., 0., 0., 0., 0.]])"
      ]
     },
     "execution_count": 183,
     "metadata": {},
     "output_type": "execute_result"
    }
   ],
   "source": [
    "z"
   ]
  },
  {
   "cell_type": "code",
   "execution_count": 184,
   "metadata": {},
   "outputs": [
    {
     "data": {
      "text/plain": [
       "(5, 5)"
      ]
     },
     "execution_count": 184,
     "metadata": {},
     "output_type": "execute_result"
    }
   ],
   "source": [
    "z.shape"
   ]
  },
  {
   "cell_type": "code",
   "execution_count": null,
   "metadata": {},
   "outputs": [],
   "source": []
  }
 ],
 "metadata": {
  "kernelspec": {
   "display_name": "pytorch",
   "language": "python",
   "name": "pytorch"
  },
  "language_info": {
   "codemirror_mode": {
    "name": "ipython",
    "version": 3
   },
   "file_extension": ".py",
   "mimetype": "text/x-python",
   "name": "python",
   "nbconvert_exporter": "python",
   "pygments_lexer": "ipython3",
   "version": "3.7.5"
  }
 },
 "nbformat": 4,
 "nbformat_minor": 4
}

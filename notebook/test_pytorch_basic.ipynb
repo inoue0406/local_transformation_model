{
 "cells": [
  {
   "cell_type": "code",
   "execution_count": 1,
   "metadata": {},
   "outputs": [],
   "source": [
    "# test for interpolation operation in pytorch\n",
    "import torch"
   ]
  },
  {
   "cell_type": "code",
   "execution_count": 2,
   "metadata": {},
   "outputs": [],
   "source": []
  },
  {
   "cell_type": "code",
   "execution_count": 3,
   "metadata": {},
   "outputs": [],
   "source": [
    "x = torch.empty(5,3)"
   ]
  },
  {
   "cell_type": "code",
   "execution_count": 4,
   "metadata": {},
   "outputs": [
    {
     "data": {
      "text/plain": [
       "tensor([[1.8040e+28, 1.8750e-19, 7.3909e+22],\n",
       "        [2.4176e-12, 2.6209e+20, 4.1641e+12],\n",
       "        [8.9625e-01, 7.9309e+34, 7.9439e+08],\n",
       "        [3.2604e-12, 7.3113e+34, 9.5492e-01],\n",
       "        [7.3154e+34, 5.9682e-02, 7.0374e+22]])"
      ]
     },
     "execution_count": 4,
     "metadata": {},
     "output_type": "execute_result"
    }
   ],
   "source": [
    "x"
   ]
  },
  {
   "cell_type": "code",
   "execution_count": 5,
   "metadata": {},
   "outputs": [],
   "source": [
    "x = torch.rand(5,3)"
   ]
  },
  {
   "cell_type": "code",
   "execution_count": 7,
   "metadata": {},
   "outputs": [
    {
     "data": {
      "text/plain": [
       "tensor([[0.0185, 0.5577, 0.0886],\n",
       "        [0.0738, 0.8659, 0.4649],\n",
       "        [0.7631, 0.7022, 0.1453],\n",
       "        [0.5478, 0.8140, 0.8283],\n",
       "        [0.3238, 0.0589, 0.0143]])"
      ]
     },
     "execution_count": 7,
     "metadata": {},
     "output_type": "execute_result"
    }
   ],
   "source": [
    "x"
   ]
  },
  {
   "cell_type": "code",
   "execution_count": 10,
   "metadata": {},
   "outputs": [],
   "source": [
    "x = torch.zeros(5,3)"
   ]
  },
  {
   "cell_type": "code",
   "execution_count": 11,
   "metadata": {},
   "outputs": [
    {
     "data": {
      "text/plain": [
       "tensor([[0., 0., 0.],\n",
       "        [0., 0., 0.],\n",
       "        [0., 0., 0.],\n",
       "        [0., 0., 0.],\n",
       "        [0., 0., 0.]])"
      ]
     },
     "execution_count": 11,
     "metadata": {},
     "output_type": "execute_result"
    }
   ],
   "source": [
    "x"
   ]
  },
  {
   "cell_type": "code",
   "execution_count": 12,
   "metadata": {},
   "outputs": [],
   "source": [
    "x = torch.tensor([10,20])"
   ]
  },
  {
   "cell_type": "code",
   "execution_count": 13,
   "metadata": {},
   "outputs": [
    {
     "data": {
      "text/plain": [
       "tensor([10, 20])"
      ]
     },
     "execution_count": 13,
     "metadata": {},
     "output_type": "execute_result"
    }
   ],
   "source": [
    "x"
   ]
  },
  {
   "cell_type": "code",
   "execution_count": 16,
   "metadata": {},
   "outputs": [],
   "source": [
    "x = x.new_ones(5, 3, dtype=torch.double)"
   ]
  },
  {
   "cell_type": "code",
   "execution_count": 18,
   "metadata": {},
   "outputs": [
    {
     "data": {
      "text/plain": [
       "tensor([[1., 1., 1.],\n",
       "        [1., 1., 1.],\n",
       "        [1., 1., 1.],\n",
       "        [1., 1., 1.],\n",
       "        [1., 1., 1.]], dtype=torch.float64)"
      ]
     },
     "execution_count": 18,
     "metadata": {},
     "output_type": "execute_result"
    }
   ],
   "source": [
    "x"
   ]
  },
  {
   "cell_type": "code",
   "execution_count": 19,
   "metadata": {},
   "outputs": [],
   "source": [
    "x = torch.randn_like(x,dtype=torch.float)"
   ]
  },
  {
   "cell_type": "code",
   "execution_count": 20,
   "metadata": {},
   "outputs": [
    {
     "data": {
      "text/plain": [
       "tensor([[-1.7032,  0.9200,  1.4416],\n",
       "        [ 2.7125,  0.1146,  0.8252],\n",
       "        [ 2.4347, -0.5704,  0.6789],\n",
       "        [-0.2898, -0.4500,  1.0378],\n",
       "        [ 0.2426, -0.8294,  0.2089]])"
      ]
     },
     "execution_count": 20,
     "metadata": {},
     "output_type": "execute_result"
    }
   ],
   "source": [
    "x"
   ]
  },
  {
   "cell_type": "code",
   "execution_count": 21,
   "metadata": {},
   "outputs": [
    {
     "data": {
      "text/plain": [
       "torch.Size([5, 3])"
      ]
     },
     "execution_count": 21,
     "metadata": {},
     "output_type": "execute_result"
    }
   ],
   "source": [
    "x.size()"
   ]
  },
  {
   "cell_type": "code",
   "execution_count": 22,
   "metadata": {},
   "outputs": [
    {
     "data": {
      "text/plain": [
       "torch.Size([5, 3])"
      ]
     },
     "execution_count": 22,
     "metadata": {},
     "output_type": "execute_result"
    }
   ],
   "source": [
    "x.shape"
   ]
  },
  {
   "cell_type": "code",
   "execution_count": 23,
   "metadata": {},
   "outputs": [],
   "source": [
    "y = torch.rand(5,3)"
   ]
  },
  {
   "cell_type": "code",
   "execution_count": 24,
   "metadata": {},
   "outputs": [
    {
     "data": {
      "text/plain": [
       "tensor([[0.2749, 0.5117, 0.8395],\n",
       "        [0.2343, 0.8845, 0.3179],\n",
       "        [0.2403, 0.9132, 0.5497],\n",
       "        [0.3551, 0.3716, 0.9086],\n",
       "        [0.7402, 0.1041, 0.2176]])"
      ]
     },
     "execution_count": 24,
     "metadata": {},
     "output_type": "execute_result"
    }
   ],
   "source": [
    "y"
   ]
  },
  {
   "cell_type": "code",
   "execution_count": 25,
   "metadata": {},
   "outputs": [
    {
     "name": "stdout",
     "output_type": "stream",
     "text": [
      "tensor([[-1.4283,  1.4317,  2.2810],\n",
      "        [ 2.9468,  0.9991,  1.1431],\n",
      "        [ 2.6750,  0.3428,  1.2286],\n",
      "        [ 0.0653, -0.0784,  1.9464],\n",
      "        [ 0.9828, -0.7254,  0.4265]])\n"
     ]
    }
   ],
   "source": [
    "print(x+y)"
   ]
  },
  {
   "cell_type": "code",
   "execution_count": 26,
   "metadata": {},
   "outputs": [
    {
     "data": {
      "text/plain": [
       "tensor([[-1.4283,  1.4317,  2.2810],\n",
       "        [ 2.9468,  0.9991,  1.1431],\n",
       "        [ 2.6750,  0.3428,  1.2286],\n",
       "        [ 0.0653, -0.0784,  1.9464],\n",
       "        [ 0.9828, -0.7254,  0.4265]])"
      ]
     },
     "execution_count": 26,
     "metadata": {},
     "output_type": "execute_result"
    }
   ],
   "source": [
    "torch.add(x,y)"
   ]
  },
  {
   "cell_type": "code",
   "execution_count": 27,
   "metadata": {},
   "outputs": [
    {
     "data": {
      "text/plain": [
       "tensor([[-1.7032,  0.9200,  1.4416],\n",
       "        [ 2.7125,  0.1146,  0.8252],\n",
       "        [ 2.4347, -0.5704,  0.6789],\n",
       "        [-0.2898, -0.4500,  1.0378],\n",
       "        [ 0.2426, -0.8294,  0.2089]])"
      ]
     },
     "execution_count": 27,
     "metadata": {},
     "output_type": "execute_result"
    }
   ],
   "source": [
    "x"
   ]
  },
  {
   "cell_type": "code",
   "execution_count": 29,
   "metadata": {},
   "outputs": [
    {
     "data": {
      "text/plain": [
       "tensor([2.7125, 0.1146, 0.8252])"
      ]
     },
     "execution_count": 29,
     "metadata": {},
     "output_type": "execute_result"
    }
   ],
   "source": [
    "x[1,:]"
   ]
  },
  {
   "cell_type": "code",
   "execution_count": 30,
   "metadata": {},
   "outputs": [],
   "source": [
    "x = torch.randn(4,4)"
   ]
  },
  {
   "cell_type": "code",
   "execution_count": 31,
   "metadata": {},
   "outputs": [
    {
     "data": {
      "text/plain": [
       "tensor([[-0.8819,  0.2923, -0.7376,  1.3239],\n",
       "        [-0.6473, -1.4775,  0.8876, -0.6672],\n",
       "        [ 0.0090, -1.5301, -0.3274,  1.5795],\n",
       "        [ 0.0807, -0.5971, -0.9020,  0.4641]])"
      ]
     },
     "execution_count": 31,
     "metadata": {},
     "output_type": "execute_result"
    }
   ],
   "source": [
    "x"
   ]
  },
  {
   "cell_type": "code",
   "execution_count": 32,
   "metadata": {},
   "outputs": [
    {
     "data": {
      "text/plain": [
       "tensor([-0.8819,  0.2923, -0.7376,  1.3239, -0.6473, -1.4775,  0.8876, -0.6672,\n",
       "         0.0090, -1.5301, -0.3274,  1.5795,  0.0807, -0.5971, -0.9020,  0.4641])"
      ]
     },
     "execution_count": 32,
     "metadata": {},
     "output_type": "execute_result"
    }
   ],
   "source": [
    "x.view(16)"
   ]
  },
  {
   "cell_type": "code",
   "execution_count": 33,
   "metadata": {},
   "outputs": [
    {
     "data": {
      "text/plain": [
       "tensor([[-0.8819,  0.2923, -0.7376,  1.3239, -0.6473, -1.4775,  0.8876, -0.6672],\n",
       "        [ 0.0090, -1.5301, -0.3274,  1.5795,  0.0807, -0.5971, -0.9020,  0.4641]])"
      ]
     },
     "execution_count": 33,
     "metadata": {},
     "output_type": "execute_result"
    }
   ],
   "source": [
    "x.view(-1,8)"
   ]
  },
  {
   "cell_type": "code",
   "execution_count": 34,
   "metadata": {},
   "outputs": [],
   "source": [
    "x = torch.randn(1)"
   ]
  },
  {
   "cell_type": "code",
   "execution_count": 35,
   "metadata": {},
   "outputs": [
    {
     "data": {
      "text/plain": [
       "tensor([0.2914])"
      ]
     },
     "execution_count": 35,
     "metadata": {},
     "output_type": "execute_result"
    }
   ],
   "source": [
    "x"
   ]
  },
  {
   "cell_type": "code",
   "execution_count": 36,
   "metadata": {},
   "outputs": [
    {
     "data": {
      "text/plain": [
       "0.2913835048675537"
      ]
     },
     "execution_count": 36,
     "metadata": {},
     "output_type": "execute_result"
    }
   ],
   "source": [
    "x.item()"
   ]
  },
  {
   "cell_type": "code",
   "execution_count": 45,
   "metadata": {},
   "outputs": [],
   "source": [
    "a =  torch.ones(5)"
   ]
  },
  {
   "cell_type": "code",
   "execution_count": 46,
   "metadata": {},
   "outputs": [
    {
     "data": {
      "text/plain": [
       "tensor([1., 1., 1., 1., 1.])"
      ]
     },
     "execution_count": 46,
     "metadata": {},
     "output_type": "execute_result"
    }
   ],
   "source": [
    "a"
   ]
  },
  {
   "cell_type": "code",
   "execution_count": 47,
   "metadata": {},
   "outputs": [],
   "source": [
    "b = a.numpy()"
   ]
  },
  {
   "cell_type": "code",
   "execution_count": 48,
   "metadata": {},
   "outputs": [
    {
     "data": {
      "text/plain": [
       "array([1., 1., 1., 1., 1.], dtype=float32)"
      ]
     },
     "execution_count": 48,
     "metadata": {},
     "output_type": "execute_result"
    }
   ],
   "source": [
    "b"
   ]
  },
  {
   "cell_type": "code",
   "execution_count": 49,
   "metadata": {},
   "outputs": [
    {
     "data": {
      "text/plain": [
       "tensor([2., 2., 2., 2., 2.])"
      ]
     },
     "execution_count": 49,
     "metadata": {},
     "output_type": "execute_result"
    }
   ],
   "source": [
    "a.add_(1)"
   ]
  },
  {
   "cell_type": "code",
   "execution_count": 50,
   "metadata": {},
   "outputs": [
    {
     "data": {
      "text/plain": [
       "tensor([2., 2., 2., 2., 2.])"
      ]
     },
     "execution_count": 50,
     "metadata": {},
     "output_type": "execute_result"
    }
   ],
   "source": [
    "a"
   ]
  },
  {
   "cell_type": "code",
   "execution_count": 51,
   "metadata": {},
   "outputs": [
    {
     "data": {
      "text/plain": [
       "array([2., 2., 2., 2., 2.], dtype=float32)"
      ]
     },
     "execution_count": 51,
     "metadata": {},
     "output_type": "execute_result"
    }
   ],
   "source": [
    "b"
   ]
  },
  {
   "cell_type": "code",
   "execution_count": 52,
   "metadata": {},
   "outputs": [
    {
     "data": {
      "text/plain": [
       "True"
      ]
     },
     "execution_count": 52,
     "metadata": {},
     "output_type": "execute_result"
    }
   ],
   "source": [
    "torch.cuda.is_available()"
   ]
  },
  {
   "cell_type": "code",
   "execution_count": 53,
   "metadata": {},
   "outputs": [],
   "source": [
    "device = torch.device(\"cuda\")"
   ]
  },
  {
   "cell_type": "code",
   "execution_count": 54,
   "metadata": {},
   "outputs": [
    {
     "data": {
      "text/plain": [
       "tensor([0.2914])"
      ]
     },
     "execution_count": 54,
     "metadata": {},
     "output_type": "execute_result"
    }
   ],
   "source": [
    "x"
   ]
  },
  {
   "cell_type": "code",
   "execution_count": 55,
   "metadata": {},
   "outputs": [],
   "source": [
    "y = torch.ones_like(x, device=device)"
   ]
  },
  {
   "cell_type": "code",
   "execution_count": 56,
   "metadata": {},
   "outputs": [
    {
     "data": {
      "text/plain": [
       "tensor([1.], device='cuda:0')"
      ]
     },
     "execution_count": 56,
     "metadata": {},
     "output_type": "execute_result"
    }
   ],
   "source": [
    "y"
   ]
  },
  {
   "cell_type": "code",
   "execution_count": 57,
   "metadata": {},
   "outputs": [],
   "source": [
    "x = x.to(device)"
   ]
  },
  {
   "cell_type": "code",
   "execution_count": 58,
   "metadata": {},
   "outputs": [
    {
     "data": {
      "text/plain": [
       "tensor([0.2914], device='cuda:0')"
      ]
     },
     "execution_count": 58,
     "metadata": {},
     "output_type": "execute_result"
    }
   ],
   "source": [
    "x"
   ]
  },
  {
   "cell_type": "code",
   "execution_count": 59,
   "metadata": {},
   "outputs": [],
   "source": [
    "z = x + y"
   ]
  },
  {
   "cell_type": "code",
   "execution_count": 60,
   "metadata": {},
   "outputs": [
    {
     "data": {
      "text/plain": [
       "tensor([1.2914], device='cuda:0')"
      ]
     },
     "execution_count": 60,
     "metadata": {},
     "output_type": "execute_result"
    }
   ],
   "source": [
    "z"
   ]
  },
  {
   "cell_type": "raw",
   "metadata": {},
   "source": [
    "x = torch.ones(2,2,requires_grad=True)"
   ]
  },
  {
   "cell_type": "code",
   "execution_count": 61,
   "metadata": {},
   "outputs": [
    {
     "data": {
      "text/plain": [
       "tensor([0.2914], device='cuda:0')"
      ]
     },
     "execution_count": 61,
     "metadata": {},
     "output_type": "execute_result"
    }
   ],
   "source": [
    "x"
   ]
  },
  {
   "cell_type": "code",
   "execution_count": 62,
   "metadata": {},
   "outputs": [],
   "source": [
    "x = torch.ones(2,2,requires_grad=True)"
   ]
  },
  {
   "cell_type": "code",
   "execution_count": 63,
   "metadata": {},
   "outputs": [
    {
     "data": {
      "text/plain": [
       "tensor([[1., 1.],\n",
       "        [1., 1.]], requires_grad=True)"
      ]
     },
     "execution_count": 63,
     "metadata": {},
     "output_type": "execute_result"
    }
   ],
   "source": [
    "x"
   ]
  },
  {
   "cell_type": "code",
   "execution_count": 64,
   "metadata": {},
   "outputs": [],
   "source": [
    "y = x + 2"
   ]
  },
  {
   "cell_type": "code",
   "execution_count": 65,
   "metadata": {},
   "outputs": [
    {
     "data": {
      "text/plain": [
       "tensor([[3., 3.],\n",
       "        [3., 3.]], grad_fn=<AddBackward0>)"
      ]
     },
     "execution_count": 65,
     "metadata": {},
     "output_type": "execute_result"
    }
   ],
   "source": [
    "y"
   ]
  },
  {
   "cell_type": "code",
   "execution_count": 66,
   "metadata": {},
   "outputs": [
    {
     "data": {
      "text/plain": [
       "<AddBackward0 at 0x7f9205bebe90>"
      ]
     },
     "execution_count": 66,
     "metadata": {},
     "output_type": "execute_result"
    }
   ],
   "source": [
    "y.grad_fn"
   ]
  },
  {
   "cell_type": "code",
   "execution_count": 67,
   "metadata": {},
   "outputs": [],
   "source": [
    "y.grad"
   ]
  },
  {
   "cell_type": "code",
   "execution_count": 68,
   "metadata": {},
   "outputs": [],
   "source": [
    "z = y * y * 3"
   ]
  },
  {
   "cell_type": "code",
   "execution_count": 69,
   "metadata": {},
   "outputs": [
    {
     "data": {
      "text/plain": [
       "tensor([[27., 27.],\n",
       "        [27., 27.]], grad_fn=<MulBackward0>)"
      ]
     },
     "execution_count": 69,
     "metadata": {},
     "output_type": "execute_result"
    }
   ],
   "source": [
    "z"
   ]
  },
  {
   "cell_type": "code",
   "execution_count": 70,
   "metadata": {},
   "outputs": [],
   "source": [
    "out = z.mean()"
   ]
  },
  {
   "cell_type": "code",
   "execution_count": 71,
   "metadata": {},
   "outputs": [
    {
     "data": {
      "text/plain": [
       "tensor([[27., 27.],\n",
       "        [27., 27.]], grad_fn=<MulBackward0>)"
      ]
     },
     "execution_count": 71,
     "metadata": {},
     "output_type": "execute_result"
    }
   ],
   "source": [
    "z"
   ]
  },
  {
   "cell_type": "code",
   "execution_count": 72,
   "metadata": {},
   "outputs": [
    {
     "data": {
      "text/plain": [
       "tensor(27., grad_fn=<MeanBackward0>)"
      ]
     },
     "execution_count": 72,
     "metadata": {},
     "output_type": "execute_result"
    }
   ],
   "source": [
    "out"
   ]
  },
  {
   "cell_type": "code",
   "execution_count": 73,
   "metadata": {},
   "outputs": [],
   "source": [
    "out.backward()"
   ]
  },
  {
   "cell_type": "code",
   "execution_count": 74,
   "metadata": {},
   "outputs": [
    {
     "data": {
      "text/plain": [
       "tensor([[27., 27.],\n",
       "        [27., 27.]], grad_fn=<MulBackward0>)"
      ]
     },
     "execution_count": 74,
     "metadata": {},
     "output_type": "execute_result"
    }
   ],
   "source": [
    "z"
   ]
  },
  {
   "cell_type": "code",
   "execution_count": 76,
   "metadata": {},
   "outputs": [],
   "source": [
    "z.grad"
   ]
  },
  {
   "cell_type": "code",
   "execution_count": 77,
   "metadata": {},
   "outputs": [],
   "source": [
    "y.grad"
   ]
  },
  {
   "cell_type": "code",
   "execution_count": 78,
   "metadata": {},
   "outputs": [
    {
     "data": {
      "text/plain": [
       "tensor([[4.5000, 4.5000],\n",
       "        [4.5000, 4.5000]])"
      ]
     },
     "execution_count": 78,
     "metadata": {},
     "output_type": "execute_result"
    }
   ],
   "source": [
    "x.grad"
   ]
  },
  {
   "cell_type": "code",
   "execution_count": 79,
   "metadata": {},
   "outputs": [
    {
     "data": {
      "text/plain": [
       "tensor([[1., 1.],\n",
       "        [1., 1.]], requires_grad=True)"
      ]
     },
     "execution_count": 79,
     "metadata": {},
     "output_type": "execute_result"
    }
   ],
   "source": [
    "x"
   ]
  },
  {
   "cell_type": "code",
   "execution_count": 82,
   "metadata": {},
   "outputs": [],
   "source": [
    "x = torch.randn(3,requires_grad=True)"
   ]
  },
  {
   "cell_type": "code",
   "execution_count": 83,
   "metadata": {},
   "outputs": [
    {
     "data": {
      "text/plain": [
       "tensor([0.3880, 0.7609, 0.1168], requires_grad=True)"
      ]
     },
     "execution_count": 83,
     "metadata": {},
     "output_type": "execute_result"
    }
   ],
   "source": [
    "x"
   ]
  },
  {
   "cell_type": "code",
   "execution_count": 84,
   "metadata": {},
   "outputs": [],
   "source": [
    "y = x * 2"
   ]
  },
  {
   "cell_type": "code",
   "execution_count": 85,
   "metadata": {},
   "outputs": [
    {
     "data": {
      "text/plain": [
       "tensor([0.7760, 1.5218, 0.2336], grad_fn=<MulBackward0>)"
      ]
     },
     "execution_count": 85,
     "metadata": {},
     "output_type": "execute_result"
    }
   ],
   "source": [
    "y"
   ]
  },
  {
   "cell_type": "code",
   "execution_count": 86,
   "metadata": {},
   "outputs": [
    {
     "data": {
      "text/plain": [
       "tensor(1.7241)"
      ]
     },
     "execution_count": 86,
     "metadata": {},
     "output_type": "execute_result"
    }
   ],
   "source": [
    "y.data.norm()"
   ]
  },
  {
   "cell_type": "code",
   "execution_count": 87,
   "metadata": {},
   "outputs": [
    {
     "name": "stdout",
     "output_type": "stream",
     "text": [
      "Net(\n",
      "  (conv1): Conv2d(1, 6, kernel_size=(3, 3), stride=(1, 1))\n",
      "  (conv2): Conv2d(6, 16, kernel_size=(3, 3), stride=(1, 1))\n",
      "  (fc1): Linear(in_features=576, out_features=120, bias=True)\n",
      "  (fc2): Linear(in_features=120, out_features=84, bias=True)\n",
      "  (fc3): Linear(in_features=84, out_features=10, bias=True)\n",
      ")\n"
     ]
    }
   ],
   "source": [
    "import torch\n",
    "import torch.nn as nn\n",
    "import torch.nn.functional as F\n",
    "\n",
    "\n",
    "class Net(nn.Module):\n",
    "\n",
    "    def __init__(self):\n",
    "        super(Net, self).__init__()\n",
    "        # 1 input image channel, 6 output channels, 3x3 square convolution\n",
    "        # kernel\n",
    "        self.conv1 = nn.Conv2d(1, 6, 3)\n",
    "        self.conv2 = nn.Conv2d(6, 16, 3)\n",
    "        # an affine operation: y = Wx + b\n",
    "        self.fc1 = nn.Linear(16 * 6 * 6, 120)  # 6*6 from image dimension\n",
    "        self.fc2 = nn.Linear(120, 84)\n",
    "        self.fc3 = nn.Linear(84, 10)\n",
    "\n",
    "    def forward(self, x):\n",
    "        # Max pooling over a (2, 2) window\n",
    "        x = F.max_pool2d(F.relu(self.conv1(x)), (2, 2))\n",
    "        # If the size is a square you can only specify a single number\n",
    "        x = F.max_pool2d(F.relu(self.conv2(x)), 2)\n",
    "        x = x.view(-1, self.num_flat_features(x))\n",
    "        x = F.relu(self.fc1(x))\n",
    "        x = F.relu(self.fc2(x))\n",
    "        x = self.fc3(x)\n",
    "        return x\n",
    "\n",
    "    def num_flat_features(self, x):\n",
    "        size = x.size()[1:]  # all dimensions except the batch dimension\n",
    "        num_features = 1\n",
    "        for s in size:\n",
    "            num_features *= s\n",
    "        return num_features\n",
    "\n",
    "\n",
    "net = Net()\n",
    "print(net)"
   ]
  },
  {
   "cell_type": "code",
   "execution_count": null,
   "metadata": {},
   "outputs": [],
   "source": []
  },
  {
   "cell_type": "code",
   "execution_count": 89,
   "metadata": {},
   "outputs": [
    {
     "data": {
      "text/plain": [
       "Net(\n",
       "  (conv1): Conv2d(1, 6, kernel_size=(3, 3), stride=(1, 1))\n",
       "  (conv2): Conv2d(6, 16, kernel_size=(3, 3), stride=(1, 1))\n",
       "  (fc1): Linear(in_features=576, out_features=120, bias=True)\n",
       "  (fc2): Linear(in_features=120, out_features=84, bias=True)\n",
       "  (fc3): Linear(in_features=84, out_features=10, bias=True)\n",
       ")"
      ]
     },
     "execution_count": 89,
     "metadata": {},
     "output_type": "execute_result"
    }
   ],
   "source": [
    "net"
   ]
  },
  {
   "cell_type": "code",
   "execution_count": 91,
   "metadata": {},
   "outputs": [
    {
     "data": {
      "text/plain": [
       "[Parameter containing:\n",
       " tensor([[[[ 0.3032, -0.2588, -0.0679],\n",
       "           [ 0.3279,  0.3211, -0.3104],\n",
       "           [-0.1591, -0.3198,  0.1643]]],\n",
       " \n",
       " \n",
       "         [[[ 0.3252, -0.2489, -0.0747],\n",
       "           [ 0.2289, -0.3259,  0.0686],\n",
       "           [ 0.0063,  0.0769,  0.2556]]],\n",
       " \n",
       " \n",
       "         [[[ 0.2675, -0.0402,  0.0319],\n",
       "           [-0.2850, -0.0154, -0.2041],\n",
       "           [-0.1469, -0.2335, -0.1959]]],\n",
       " \n",
       " \n",
       "         [[[-0.3294,  0.2993,  0.0469],\n",
       "           [-0.1754, -0.0092, -0.1267],\n",
       "           [ 0.0845,  0.2608, -0.0682]]],\n",
       " \n",
       " \n",
       "         [[[-0.2289,  0.2601,  0.1150],\n",
       "           [ 0.2553, -0.2908,  0.3213],\n",
       "           [ 0.0500, -0.0584, -0.0482]]],\n",
       " \n",
       " \n",
       "         [[[-0.1756, -0.1578,  0.3188],\n",
       "           [ 0.0038, -0.1281, -0.2067],\n",
       "           [ 0.2529, -0.1156,  0.0431]]]], requires_grad=True),\n",
       " Parameter containing:\n",
       " tensor([-0.1644, -0.1019,  0.1811,  0.0277,  0.2572,  0.2445],\n",
       "        requires_grad=True),\n",
       " Parameter containing:\n",
       " tensor([[[[ 9.3549e-03, -3.3289e-02, -8.0891e-02],\n",
       "           [-1.4373e-02, -1.0988e-01,  8.9841e-03],\n",
       "           [-5.2941e-02, -6.9872e-02,  7.0205e-02]],\n",
       " \n",
       "          [[ 1.2070e-01, -1.1604e-02,  5.6673e-02],\n",
       "           [ 2.1101e-02, -2.4112e-02,  1.3281e-01],\n",
       "           [ 1.1399e-01, -1.1330e-01, -8.4762e-02]],\n",
       " \n",
       "          [[-5.3106e-02,  5.0638e-02,  8.6432e-02],\n",
       "           [ 1.2103e-01, -2.2249e-02,  5.0853e-02],\n",
       "           [ 1.6869e-02, -1.0703e-01,  3.6946e-03]],\n",
       " \n",
       "          [[ 4.8670e-02,  1.3077e-01,  1.0297e-01],\n",
       "           [-4.1659e-02,  7.8453e-02, -5.5907e-02],\n",
       "           [ 1.1788e-01, -1.7341e-02,  1.1061e-01]],\n",
       " \n",
       "          [[-1.0435e-01,  2.2355e-02, -2.1118e-02],\n",
       "           [-6.4099e-02, -3.0792e-02,  4.8803e-02],\n",
       "           [ 5.7664e-02,  6.3666e-02,  2.6959e-02]],\n",
       " \n",
       "          [[ 1.0318e-01, -1.1031e-01,  5.9921e-02],\n",
       "           [ 1.1917e-01, -1.1308e-01, -1.5221e-02],\n",
       "           [ 5.2211e-02, -3.2295e-03,  1.0543e-01]]],\n",
       " \n",
       " \n",
       "         [[[ 5.1977e-02,  1.2545e-01, -5.9714e-02],\n",
       "           [ 8.7992e-02, -4.1575e-02,  4.4811e-03],\n",
       "           [ 9.5723e-02, -1.0561e-01,  7.7106e-02]],\n",
       " \n",
       "          [[-4.1221e-02,  1.0571e-01, -3.1477e-02],\n",
       "           [-8.9603e-02,  4.7961e-02, -9.5845e-02],\n",
       "           [-1.0780e-01, -8.3396e-02,  7.2165e-03]],\n",
       " \n",
       "          [[-1.2806e-01, -5.9887e-03,  7.3305e-02],\n",
       "           [-6.9802e-03,  1.1932e-01,  7.0950e-02],\n",
       "           [ 7.7001e-02,  1.0717e-01,  1.8508e-02]],\n",
       " \n",
       "          [[-6.1815e-02,  7.6237e-02,  1.2731e-01],\n",
       "           [ 1.3248e-01,  7.4119e-02,  5.6341e-02],\n",
       "           [ 1.3490e-01,  9.4356e-02, -5.7422e-02]],\n",
       " \n",
       "          [[ 8.4306e-02,  5.1624e-02,  5.3716e-02],\n",
       "           [-9.6557e-02, -1.2749e-01,  5.9419e-02],\n",
       "           [ 3.2922e-02, -5.6760e-02, -1.1552e-01]],\n",
       " \n",
       "          [[ 5.3154e-02, -8.6206e-02,  6.9516e-02],\n",
       "           [-2.0932e-03, -1.0777e-01,  1.0337e-01],\n",
       "           [-9.4657e-03, -9.3056e-02,  5.2133e-02]]],\n",
       " \n",
       " \n",
       "         [[[-1.6904e-02,  4.8438e-03, -2.1685e-03],\n",
       "           [ 1.1719e-01, -1.2459e-01, -3.3266e-03],\n",
       "           [-5.6361e-03,  1.3328e-01, -3.4767e-02]],\n",
       " \n",
       "          [[ 1.0174e-01,  1.3409e-01,  1.1300e-02],\n",
       "           [ 1.2054e-01,  3.9244e-02,  3.0124e-02],\n",
       "           [-1.2749e-01,  2.9275e-02, -2.6330e-05]],\n",
       " \n",
       "          [[-3.4563e-03, -1.7742e-02, -1.1449e-01],\n",
       "           [-2.4117e-03,  2.4152e-02, -6.6588e-02],\n",
       "           [ 6.3746e-02, -1.5111e-02, -6.8026e-02]],\n",
       " \n",
       "          [[ 3.8041e-02,  6.3542e-03, -8.2113e-02],\n",
       "           [-5.8372e-02,  9.1955e-03,  1.0133e-01],\n",
       "           [-4.7622e-03,  2.2040e-02,  5.8820e-02]],\n",
       " \n",
       "          [[-1.3559e-01,  6.2958e-02, -9.7756e-02],\n",
       "           [ 4.8244e-02, -6.8319e-02, -9.7746e-02],\n",
       "           [-1.3229e-01, -1.1547e-01,  1.3537e-01]],\n",
       " \n",
       "          [[-1.8662e-04,  5.9087e-02,  9.1543e-03],\n",
       "           [ 8.8558e-02, -1.0736e-01, -2.2383e-02],\n",
       "           [ 1.1222e-01,  3.2952e-02,  4.2492e-02]]],\n",
       " \n",
       " \n",
       "         [[[ 5.2362e-02,  8.4331e-02, -2.1104e-02],\n",
       "           [-6.7423e-03, -1.0645e-01,  1.8271e-02],\n",
       "           [-1.1696e-01,  1.2496e-01, -4.0440e-02]],\n",
       " \n",
       "          [[-1.3023e-02,  8.2222e-02,  5.4234e-02],\n",
       "           [ 5.5828e-02,  1.1502e-01, -7.4070e-02],\n",
       "           [ 5.0483e-02, -1.2854e-01,  6.5569e-02]],\n",
       " \n",
       "          [[ 1.3218e-01,  3.5582e-02,  1.3559e-01],\n",
       "           [ 4.0183e-02,  4.6196e-03,  1.2774e-01],\n",
       "           [ 6.1532e-02,  5.6262e-02,  1.0193e-01]],\n",
       " \n",
       "          [[ 1.4960e-02, -1.1889e-02, -8.0647e-02],\n",
       "           [ 5.9410e-02,  2.3320e-02, -9.5573e-02],\n",
       "           [ 3.7516e-02, -1.2879e-01,  4.7853e-02]],\n",
       " \n",
       "          [[ 6.7260e-03, -1.2011e-01, -2.0133e-02],\n",
       "           [-6.0437e-02, -5.1566e-02,  3.1010e-02],\n",
       "           [ 4.3622e-02,  1.3541e-01,  1.1391e-01]],\n",
       " \n",
       "          [[ 6.0724e-02, -2.0296e-02, -7.1181e-02],\n",
       "           [-5.6735e-02, -5.3723e-03,  1.1589e-01],\n",
       "           [-1.1171e-01,  1.2510e-01, -9.8334e-02]]],\n",
       " \n",
       " \n",
       "         [[[ 1.3563e-01,  9.8502e-02, -8.9661e-02],\n",
       "           [ 1.9254e-02,  1.3493e-01, -5.6734e-02],\n",
       "           [-9.3455e-02,  1.2615e-01, -4.8888e-03]],\n",
       " \n",
       "          [[ 1.1046e-01, -4.9112e-02,  8.7687e-02],\n",
       "           [ 5.2500e-02,  5.9269e-02, -3.2188e-02],\n",
       "           [-1.6968e-02, -8.6276e-02, -9.2388e-02]],\n",
       " \n",
       "          [[-1.0512e-01,  1.1023e-01,  5.3423e-02],\n",
       "           [-1.1585e-02,  3.7588e-02,  6.1626e-02],\n",
       "           [ 1.1174e-01,  1.2264e-01,  2.0785e-02]],\n",
       " \n",
       "          [[ 6.3956e-03,  8.0478e-02,  1.0658e-01],\n",
       "           [ 1.3534e-01,  1.5406e-02,  1.0712e-01],\n",
       "           [ 1.8392e-02, -1.6392e-02,  7.5077e-03]],\n",
       " \n",
       "          [[ 1.2214e-01,  7.3233e-03,  4.0695e-02],\n",
       "           [ 8.9304e-02, -7.9873e-02,  6.0378e-02],\n",
       "           [-1.1057e-01,  7.1088e-02, -6.7331e-02]],\n",
       " \n",
       "          [[-5.9278e-02, -1.1721e-02, -2.6766e-02],\n",
       "           [-9.8222e-02, -9.9623e-02,  1.2695e-01],\n",
       "           [ 7.4617e-02, -1.0848e-01,  6.3085e-02]]],\n",
       " \n",
       " \n",
       "         [[[ 9.1767e-02, -2.5767e-02, -8.7219e-02],\n",
       "           [ 5.4812e-02,  1.0060e-01,  4.6664e-02],\n",
       "           [ 4.5994e-02,  1.1518e-01, -8.7930e-02]],\n",
       " \n",
       "          [[-4.6209e-02, -9.4883e-02,  1.2209e-01],\n",
       "           [ 1.1450e-01,  9.3846e-02,  1.3412e-01],\n",
       "           [-9.9816e-02,  7.1600e-02, -1.2011e-01]],\n",
       " \n",
       "          [[ 8.1264e-02, -1.2341e-01, -6.1033e-02],\n",
       "           [ 1.2101e-02, -9.8266e-02,  1.3346e-01],\n",
       "           [-1.1825e-01, -5.5960e-03,  8.0440e-03]],\n",
       " \n",
       "          [[ 6.1007e-02, -8.2420e-02, -5.3832e-02],\n",
       "           [-5.0271e-02,  6.2564e-02, -3.3218e-02],\n",
       "           [-1.2255e-01,  5.0030e-02, -6.1216e-02]],\n",
       " \n",
       "          [[-1.3103e-01, -4.9222e-02, -1.0854e-01],\n",
       "           [ 2.9048e-02, -9.1759e-02, -1.0588e-01],\n",
       "           [-1.1369e-01,  9.6549e-02,  8.5075e-02]],\n",
       " \n",
       "          [[ 5.2432e-02, -6.0471e-02,  1.3469e-01],\n",
       "           [ 6.5915e-03,  9.5822e-03, -5.9175e-03],\n",
       "           [-1.4165e-02,  5.6896e-04, -1.0641e-01]]],\n",
       " \n",
       " \n",
       "         [[[ 6.4182e-02,  6.9825e-02,  3.0637e-02],\n",
       "           [-7.8483e-02,  1.5025e-02, -1.1049e-01],\n",
       "           [-2.4389e-02, -7.2754e-02, -4.7980e-02]],\n",
       " \n",
       "          [[-7.4910e-02, -1.2160e-01, -1.1091e-01],\n",
       "           [ 2.0598e-02,  7.2137e-02, -9.6346e-02],\n",
       "           [-6.8357e-02, -1.2847e-01, -1.4234e-02]],\n",
       " \n",
       "          [[ 6.0952e-02,  7.1802e-02, -5.7174e-02],\n",
       "           [-4.4089e-02,  2.6074e-02, -8.2598e-02],\n",
       "           [-3.7791e-02, -9.9526e-03, -1.0367e-01]],\n",
       " \n",
       "          [[-5.3960e-02, -6.0346e-02,  5.2265e-02],\n",
       "           [-6.2696e-02, -6.1935e-02, -5.4486e-02],\n",
       "           [-1.1219e-01,  9.8591e-02,  1.2504e-01]],\n",
       " \n",
       "          [[ 1.1408e-01,  6.9098e-02,  9.0772e-02],\n",
       "           [-1.0452e-01,  1.2999e-01,  1.2477e-01],\n",
       "           [-1.1042e-01,  6.2318e-03, -3.3622e-02]],\n",
       " \n",
       "          [[ 1.3226e-01, -9.8009e-02,  4.8445e-02],\n",
       "           [-8.4570e-02,  2.4520e-02, -9.5562e-02],\n",
       "           [ 1.5838e-02,  7.4042e-03, -1.0201e-03]]],\n",
       " \n",
       " \n",
       "         [[[-7.9193e-02,  1.1378e-01,  4.8814e-02],\n",
       "           [-5.9956e-02,  5.3723e-02,  1.1483e-01],\n",
       "           [ 1.2024e-01, -9.0474e-02, -1.0456e-01]],\n",
       " \n",
       "          [[-2.0119e-02, -1.0719e-01, -1.4812e-02],\n",
       "           [ 3.0143e-02, -7.7028e-02, -4.0560e-02],\n",
       "           [ 1.2673e-01,  2.7304e-02,  7.1793e-02]],\n",
       " \n",
       "          [[ 9.5378e-02,  4.9390e-02, -3.6316e-02],\n",
       "           [ 5.0225e-03,  1.3118e-01,  3.3355e-02],\n",
       "           [ 3.6328e-02,  1.2880e-01, -8.6954e-02]],\n",
       " \n",
       "          [[-4.1416e-02,  7.5697e-02,  9.9930e-02],\n",
       "           [ 1.2339e-01,  2.5795e-02, -2.3270e-03],\n",
       "           [ 8.3182e-02,  1.0571e-01, -3.3001e-02]],\n",
       " \n",
       "          [[-7.8878e-02, -1.2141e-01,  1.0436e-01],\n",
       "           [ 3.8105e-02, -8.8094e-02,  1.1252e-01],\n",
       "           [ 1.1549e-01, -8.3302e-02,  5.6672e-02]],\n",
       " \n",
       "          [[-6.0115e-02, -5.5080e-02, -2.8464e-02],\n",
       "           [-6.0494e-02,  4.4717e-02,  3.1881e-02],\n",
       "           [-7.0824e-02,  1.0001e-01, -2.1486e-02]]],\n",
       " \n",
       " \n",
       "         [[[-1.3121e-01, -7.5849e-02,  8.8819e-02],\n",
       "           [ 7.0406e-02,  8.6505e-02,  5.7149e-02],\n",
       "           [-2.5357e-02, -4.1775e-02, -1.1623e-01]],\n",
       " \n",
       "          [[-9.1139e-02,  9.6460e-02,  4.1423e-02],\n",
       "           [ 7.2488e-02,  9.2306e-02, -1.1696e-02],\n",
       "           [-1.0426e-01, -6.4349e-02,  4.1080e-02]],\n",
       " \n",
       "          [[-8.3688e-02,  2.4873e-03, -4.9143e-02],\n",
       "           [-5.8419e-02, -1.2425e-01,  2.3721e-02],\n",
       "           [-8.3804e-02,  2.4866e-03,  9.8418e-02]],\n",
       " \n",
       "          [[ 1.2755e-01,  5.9542e-02, -5.9410e-02],\n",
       "           [ 1.7650e-02, -1.3351e-01, -5.6006e-02],\n",
       "           [-6.6600e-02,  1.1641e-01, -3.4000e-02]],\n",
       " \n",
       "          [[-1.2107e-02,  1.1738e-02,  8.3674e-02],\n",
       "           [-1.1440e-01, -4.9290e-03, -7.2108e-02],\n",
       "           [ 7.4621e-02, -4.5932e-02, -1.8054e-03]],\n",
       " \n",
       "          [[-9.7069e-02,  6.3777e-02,  7.3620e-02],\n",
       "           [ 1.4580e-02, -6.7937e-02, -6.4878e-02],\n",
       "           [-5.6840e-02,  8.3810e-02, -7.3450e-02]]],\n",
       " \n",
       " \n",
       "         [[[ 1.1373e-01,  1.3222e-03, -8.8466e-02],\n",
       "           [-8.1012e-02,  8.9719e-02, -1.3411e-01],\n",
       "           [-7.5429e-03, -1.1466e-03, -4.1439e-02]],\n",
       " \n",
       "          [[-4.7440e-02, -1.2451e-01, -9.9429e-02],\n",
       "           [-1.1842e-01, -3.3388e-02, -4.3472e-02],\n",
       "           [-1.2406e-01, -6.8250e-02,  5.0029e-02]],\n",
       " \n",
       "          [[-9.6250e-03, -6.4488e-02,  7.6635e-03],\n",
       "           [-6.4780e-02,  1.3282e-02, -4.6964e-03],\n",
       "           [ 1.1437e-01,  1.0406e-02,  5.8667e-02]],\n",
       " \n",
       "          [[ 3.4688e-02,  1.0874e-01, -1.3150e-01],\n",
       "           [ 1.1908e-01,  2.0533e-02, -1.1086e-01],\n",
       "           [-5.6504e-02,  1.0438e-01, -1.5772e-02]],\n",
       " \n",
       "          [[ 1.2598e-01, -2.4722e-02,  5.3572e-02],\n",
       "           [ 2.5980e-02,  8.8977e-02, -5.1353e-02],\n",
       "           [-7.8867e-02, -4.3688e-02,  8.7550e-02]],\n",
       " \n",
       "          [[ 6.3908e-02,  5.3788e-02, -9.4352e-02],\n",
       "           [-1.1902e-01, -8.7794e-02, -8.7187e-02],\n",
       "           [ 7.6137e-02, -1.0783e-01,  1.3170e-01]]],\n",
       " \n",
       " \n",
       "         [[[-7.8734e-02,  1.2747e-01,  7.1925e-02],\n",
       "           [-5.7466e-02, -9.2378e-02, -1.9901e-02],\n",
       "           [ 4.2386e-02, -5.8564e-02,  6.2495e-02]],\n",
       " \n",
       "          [[ 6.5936e-02, -2.7743e-02,  1.6310e-02],\n",
       "           [ 5.4523e-02, -5.0909e-02, -6.7196e-02],\n",
       "           [ 1.1945e-01,  2.3570e-02,  4.1916e-02]],\n",
       " \n",
       "          [[-1.0646e-01, -1.1841e-01, -9.2140e-02],\n",
       "           [ 2.4354e-02,  4.0941e-04,  4.6663e-02],\n",
       "           [-9.5958e-02, -7.2836e-03, -2.4530e-03]],\n",
       " \n",
       "          [[-1.2131e-01,  1.1593e-01,  1.7133e-02],\n",
       "           [-6.3266e-02, -9.6312e-02,  1.0173e-01],\n",
       "           [-1.1537e-01,  7.6837e-02,  1.2324e-01]],\n",
       " \n",
       "          [[ 8.0342e-02,  1.0862e-01, -1.1089e-01],\n",
       "           [-1.2091e-01,  1.1727e-01,  1.0204e-01],\n",
       "           [ 2.4355e-03,  2.0710e-02,  3.7910e-03]],\n",
       " \n",
       "          [[-1.6456e-03, -1.7856e-03,  5.8774e-02],\n",
       "           [-2.5571e-03, -7.8216e-02, -1.1798e-01],\n",
       "           [-1.2565e-01, -1.1028e-01,  8.7753e-02]]],\n",
       " \n",
       " \n",
       "         [[[ 1.8572e-02,  5.4784e-03,  7.0250e-02],\n",
       "           [-7.0730e-02,  2.0640e-02,  9.4299e-02],\n",
       "           [-4.8820e-02,  1.0572e-01,  2.3466e-02]],\n",
       " \n",
       "          [[-1.1027e-01, -6.0709e-02,  8.6494e-02],\n",
       "           [ 8.2207e-02, -1.2656e-01, -3.6175e-02],\n",
       "           [ 9.0075e-02,  7.0027e-02,  1.3298e-01]],\n",
       " \n",
       "          [[ 4.0691e-02, -1.0767e-01, -1.0773e-01],\n",
       "           [ 1.0697e-03, -5.4847e-02,  1.9939e-02],\n",
       "           [-3.3214e-02, -3.0362e-02,  9.4138e-02]],\n",
       " \n",
       "          [[-5.3756e-03,  8.6678e-02, -5.1704e-02],\n",
       "           [-4.2885e-02,  2.1235e-02,  8.1948e-02],\n",
       "           [ 6.8108e-02, -1.1321e-02, -4.9659e-02]],\n",
       " \n",
       "          [[-3.2536e-02,  1.2675e-01, -1.4557e-02],\n",
       "           [-9.8419e-02, -1.1144e-02,  8.7829e-02],\n",
       "           [-9.8959e-03, -5.9071e-02,  6.8113e-02]],\n",
       " \n",
       "          [[-1.2037e-01,  8.1845e-02,  1.5523e-02],\n",
       "           [ 4.3462e-03,  1.3110e-01,  1.2560e-01],\n",
       "           [ 6.9994e-02,  7.4173e-02, -4.7664e-02]]],\n",
       " \n",
       " \n",
       "         [[[ 4.5749e-03,  5.2227e-02, -1.3247e-02],\n",
       "           [ 1.6152e-02,  8.5209e-02,  9.3660e-02],\n",
       "           [-7.6844e-03, -1.1017e-01,  2.4341e-02]],\n",
       " \n",
       "          [[ 8.6808e-02,  7.6319e-02,  8.7644e-02],\n",
       "           [ 8.8154e-03, -2.2488e-02, -1.3112e-01],\n",
       "           [ 4.2772e-02,  8.4670e-02, -9.6619e-02]],\n",
       " \n",
       "          [[ 6.9041e-03, -3.6815e-02,  5.7368e-02],\n",
       "           [ 3.9879e-02,  8.0666e-02, -1.0714e-01],\n",
       "           [ 2.1652e-02,  1.0068e-01,  4.9780e-02]],\n",
       " \n",
       "          [[-9.4099e-02,  7.0190e-02, -9.2934e-02],\n",
       "           [ 7.5245e-02, -1.1656e-01,  5.2824e-02],\n",
       "           [-4.6606e-03,  8.9758e-02,  3.3376e-02]],\n",
       " \n",
       "          [[-1.0847e-02, -1.5786e-02, -1.6912e-02],\n",
       "           [-8.1097e-02,  6.7531e-02, -1.6160e-02],\n",
       "           [ 2.7102e-04,  2.1259e-03, -8.2612e-02]],\n",
       " \n",
       "          [[ 1.6517e-02, -9.6692e-02,  5.3049e-02],\n",
       "           [-4.1725e-02, -1.0925e-01, -8.2256e-02],\n",
       "           [-7.8642e-02, -7.0288e-02,  4.7894e-03]]],\n",
       " \n",
       " \n",
       "         [[[ 6.1876e-02, -9.8205e-02,  1.1662e-01],\n",
       "           [-9.0414e-02,  1.1577e-01, -1.1544e-01],\n",
       "           [ 8.8067e-02, -3.6888e-02,  9.4586e-02]],\n",
       " \n",
       "          [[ 7.2925e-03, -7.4244e-02,  7.5188e-02],\n",
       "           [ 8.1459e-02, -3.7535e-02,  1.1465e-01],\n",
       "           [-1.3123e-01, -1.2938e-01,  1.1970e-01]],\n",
       " \n",
       "          [[ 9.0044e-02,  1.2623e-01,  1.4369e-02],\n",
       "           [-1.2936e-01,  8.9955e-02,  1.8101e-02],\n",
       "           [ 2.5488e-02,  6.9058e-02,  1.1704e-01]],\n",
       " \n",
       "          [[-3.1972e-02,  1.1740e-01, -6.0379e-02],\n",
       "           [-1.0338e-02,  9.1662e-02,  5.2001e-02],\n",
       "           [-1.8677e-02, -3.0730e-02, -1.7013e-02]],\n",
       " \n",
       "          [[ 1.0753e-01,  8.8632e-02, -2.9373e-02],\n",
       "           [-1.3486e-01, -2.1351e-02,  1.0058e-01],\n",
       "           [ 5.4775e-02, -1.6813e-02, -1.3025e-01]],\n",
       " \n",
       "          [[ 3.0918e-04, -9.7498e-02,  1.2640e-01],\n",
       "           [-4.8655e-02, -1.3323e-01,  6.9087e-02],\n",
       "           [-8.1332e-02, -4.3768e-02, -6.5519e-02]]],\n",
       " \n",
       " \n",
       "         [[[ 2.1519e-02, -4.6391e-03, -6.2703e-03],\n",
       "           [ 1.2570e-01,  4.5082e-02, -1.2675e-02],\n",
       "           [ 1.2678e-01,  4.8823e-02,  7.7469e-02]],\n",
       " \n",
       "          [[ 6.9357e-02, -4.5404e-03,  5.5158e-02],\n",
       "           [ 1.3174e-01,  1.2936e-01, -3.9763e-03],\n",
       "           [-8.7241e-02,  5.6914e-03,  1.0174e-01]],\n",
       " \n",
       "          [[-6.1387e-02,  3.7830e-02,  8.4494e-02],\n",
       "           [-8.4114e-02, -7.9342e-02, -7.6360e-02],\n",
       "           [-9.8024e-02, -1.1687e-01,  3.9422e-02]],\n",
       " \n",
       "          [[ 8.3619e-03,  1.3234e-01, -6.8001e-02],\n",
       "           [-1.0422e-01,  3.8947e-02, -1.4355e-02],\n",
       "           [-1.2441e-01, -1.3411e-01, -5.4312e-02]],\n",
       " \n",
       "          [[-5.1620e-02,  1.0062e-01,  9.4030e-02],\n",
       "           [ 7.9473e-02, -6.5926e-02,  4.3038e-02],\n",
       "           [-1.2390e-01, -3.2333e-02,  6.7219e-02]],\n",
       " \n",
       "          [[-1.0447e-01, -6.7703e-02,  5.2821e-02],\n",
       "           [-8.4348e-02,  2.2624e-02, -1.3238e-01],\n",
       "           [-1.3092e-02, -8.5851e-02,  1.5035e-03]]],\n",
       " \n",
       " \n",
       "         [[[ 9.9376e-02,  9.2612e-02, -4.8129e-02],\n",
       "           [ 1.3436e-01, -2.5717e-02, -6.4893e-02],\n",
       "           [-7.2495e-02, -4.2975e-02, -7.7371e-02]],\n",
       " \n",
       "          [[ 1.3042e-01, -9.7352e-02, -4.6642e-02],\n",
       "           [-8.8859e-02,  5.9792e-04, -3.5784e-03],\n",
       "           [ 9.1616e-02,  7.4231e-03, -1.1950e-01]],\n",
       " \n",
       "          [[-2.5108e-03, -8.8297e-02, -4.9619e-02],\n",
       "           [-2.1233e-02,  8.2078e-02,  5.2500e-02],\n",
       "           [-9.8873e-02,  7.6326e-02, -1.0571e-02]],\n",
       " \n",
       "          [[-4.6310e-02, -4.6833e-02, -8.5022e-02],\n",
       "           [-6.8366e-02,  1.0860e-01, -6.8748e-02],\n",
       "           [-2.6902e-02,  8.4809e-02, -7.0449e-02]],\n",
       " \n",
       "          [[-2.5012e-02,  7.6186e-02, -1.3466e-01],\n",
       "           [-4.2045e-02,  8.8893e-02,  7.8075e-02],\n",
       "           [-5.9623e-02,  1.0688e-01,  1.1338e-02]],\n",
       " \n",
       "          [[-3.7604e-02,  1.2014e-01, -1.1270e-01],\n",
       "           [ 8.0270e-02, -9.8524e-02,  1.0280e-01],\n",
       "           [-4.6402e-02, -9.2096e-02,  7.2719e-02]]]], requires_grad=True),\n",
       " Parameter containing:\n",
       " tensor([ 0.0721, -0.0780,  0.0705, -0.0423, -0.0147, -0.0737, -0.1281,  0.0959,\n",
       "          0.0240, -0.0323,  0.1064, -0.1063, -0.0089, -0.0154,  0.0792,  0.0316],\n",
       "        requires_grad=True),\n",
       " Parameter containing:\n",
       " tensor([[ 3.6206e-02, -8.1622e-03,  1.2831e-02,  ..., -2.3966e-02,\n",
       "          -1.7248e-02,  2.7066e-03],\n",
       "         [-3.2835e-02, -1.6983e-02, -2.6255e-02,  ..., -4.7440e-03,\n",
       "           3.9364e-03, -4.1110e-02],\n",
       "         [ 2.8536e-03,  3.2124e-02,  1.2939e-03,  ...,  4.0565e-02,\n",
       "          -3.2422e-02,  2.9259e-02],\n",
       "         ...,\n",
       "         [ 2.1950e-02, -1.1658e-02,  6.5848e-04,  ...,  1.4797e-03,\n",
       "           7.8139e-03, -1.7780e-02],\n",
       "         [ 1.7186e-02, -1.4762e-02, -9.6738e-05,  ..., -3.2681e-02,\n",
       "          -2.2913e-02, -2.5022e-02],\n",
       "         [ 2.5705e-02, -3.6539e-02,  2.5768e-02,  ...,  5.2251e-03,\n",
       "          -3.7112e-02, -3.2473e-03]], requires_grad=True),\n",
       " Parameter containing:\n",
       " tensor([ 1.9943e-02, -1.1750e-02,  1.7169e-02,  3.4634e-03, -2.3322e-02,\n",
       "         -2.9351e-02, -2.4334e-05,  1.2363e-03, -3.3084e-02, -3.8390e-02,\n",
       "          1.9417e-02, -2.9176e-03, -1.0867e-03,  1.8435e-02, -1.3584e-02,\n",
       "         -2.3415e-02, -8.4102e-03, -2.3481e-02,  2.6843e-03,  2.7360e-02,\n",
       "          5.9096e-03,  1.7283e-02,  4.0651e-02, -1.6570e-02,  6.2449e-04,\n",
       "          6.9046e-03, -2.6259e-02,  7.8564e-03, -1.5991e-04, -1.9703e-02,\n",
       "          2.3783e-02, -3.9607e-02, -1.9817e-02, -2.5033e-02,  2.6879e-02,\n",
       "          3.2602e-02,  2.3896e-02,  4.1594e-02,  3.8932e-02,  1.6555e-02,\n",
       "         -1.5250e-02, -3.0927e-02,  3.1952e-02,  8.9494e-03, -4.4050e-03,\n",
       "          2.4958e-02,  1.3533e-02,  3.9991e-02,  3.9859e-02, -2.5476e-02,\n",
       "          2.1609e-02,  3.2163e-03, -2.5742e-02, -2.9776e-02,  3.3914e-02,\n",
       "         -1.9526e-03,  2.3333e-02, -1.0991e-02, -2.4797e-02,  3.1691e-02,\n",
       "         -1.4586e-02, -5.0981e-03,  3.1355e-02, -1.2149e-02,  2.8738e-02,\n",
       "         -1.1921e-02, -2.2349e-02,  2.7438e-02,  1.5691e-02,  2.3278e-02,\n",
       "          1.1129e-02, -3.9451e-02,  3.9929e-02, -5.8565e-03, -3.1046e-02,\n",
       "          2.7206e-02,  4.0392e-02,  2.8845e-02,  2.0111e-02,  1.3746e-02,\n",
       "          2.0610e-02,  3.7675e-02, -4.4933e-03,  2.1207e-02,  1.4454e-02,\n",
       "          4.0486e-02,  2.4830e-02, -4.0738e-02,  1.2775e-02, -1.0460e-02,\n",
       "         -3.1583e-02,  3.9943e-02,  3.3901e-02,  3.5275e-05,  1.8179e-02,\n",
       "          1.6933e-02, -3.4184e-02, -1.9409e-02,  2.0223e-02,  1.1460e-02,\n",
       "         -2.3252e-02,  1.3810e-02, -2.8081e-02, -1.1163e-02, -2.7648e-02,\n",
       "         -2.8260e-02, -1.6305e-03,  2.4597e-02, -3.5417e-03, -2.9071e-02,\n",
       "          1.7207e-02, -1.3245e-02, -1.8437e-02, -3.7392e-02,  1.4863e-02,\n",
       "          1.2139e-02, -1.7376e-02, -3.7597e-03, -1.7852e-02, -1.0791e-02],\n",
       "        requires_grad=True),\n",
       " Parameter containing:\n",
       " tensor([[ 7.8238e-03, -2.2982e-02, -3.6065e-02,  ..., -2.9511e-02,\n",
       "           3.9193e-02,  8.5369e-02],\n",
       "         [-5.9547e-02,  2.4842e-02, -3.8087e-02,  ..., -8.5935e-02,\n",
       "          -2.1073e-02, -5.7967e-02],\n",
       "         [ 6.5505e-02, -4.0155e-02,  2.8274e-02,  ...,  7.8499e-02,\n",
       "          -3.4439e-02,  8.0139e-02],\n",
       "         ...,\n",
       "         [ 2.1242e-02, -8.5827e-02,  1.1163e-02,  ...,  8.9277e-02,\n",
       "          -1.9884e-02, -1.7853e-02],\n",
       "         [ 4.6700e-02, -8.9715e-02,  2.6722e-02,  ..., -4.7366e-02,\n",
       "           3.2986e-02, -1.1018e-02],\n",
       "         [-5.0440e-05, -1.1624e-02,  6.8383e-02,  ..., -3.4007e-02,\n",
       "          -1.9831e-02, -1.6075e-02]], requires_grad=True),\n",
       " Parameter containing:\n",
       " tensor([ 0.0343,  0.0452, -0.0721, -0.0731, -0.0416,  0.0887,  0.0254,  0.0818,\n",
       "          0.0123, -0.0047, -0.0620,  0.0190,  0.0539,  0.0496,  0.0441,  0.0543,\n",
       "          0.0788, -0.0488,  0.0441, -0.0538,  0.0194, -0.0179, -0.0672,  0.0401,\n",
       "          0.0862,  0.0042, -0.0359, -0.0642, -0.0265, -0.0373, -0.0816, -0.0373,\n",
       "          0.0358, -0.0762,  0.0220, -0.0230, -0.0620, -0.0903, -0.0470, -0.0668,\n",
       "          0.0462,  0.0706, -0.0213, -0.0741,  0.0009,  0.0347,  0.0879,  0.0666,\n",
       "          0.0098, -0.0201,  0.0073,  0.0676, -0.0572,  0.0459,  0.0612, -0.0286,\n",
       "         -0.0239, -0.0486, -0.0655,  0.0351,  0.0605,  0.0201, -0.0888, -0.0878,\n",
       "         -0.0557,  0.0252, -0.0442,  0.0556,  0.0115,  0.0559,  0.0309, -0.0270,\n",
       "         -0.0402, -0.0073,  0.0162, -0.0401,  0.0292,  0.0552,  0.0423, -0.0212,\n",
       "          0.0587,  0.0442,  0.0185,  0.0408], requires_grad=True),\n",
       " Parameter containing:\n",
       " tensor([[-0.0151, -0.0198,  0.0984,  0.0510,  0.0793, -0.0810, -0.0395, -0.0752,\n",
       "          -0.1073,  0.0323, -0.1010, -0.1016,  0.0560,  0.0037, -0.0332, -0.0200,\n",
       "          -0.0751,  0.0563,  0.1021,  0.0347, -0.0802, -0.0642, -0.0478, -0.0697,\n",
       "          -0.0717, -0.0484, -0.0535, -0.0055, -0.0187, -0.0377,  0.0867,  0.0597,\n",
       "          -0.0878,  0.0858,  0.0489,  0.0395,  0.0568,  0.0955, -0.0655,  0.1009,\n",
       "           0.0125, -0.0038, -0.0075,  0.0397, -0.0104,  0.0390,  0.0536,  0.0910,\n",
       "           0.0466,  0.0257,  0.0390, -0.0062,  0.1003, -0.0425,  0.1087, -0.0450,\n",
       "          -0.0448, -0.0546, -0.0394,  0.0391,  0.1014,  0.0106, -0.0720,  0.0161,\n",
       "           0.0441,  0.1053, -0.0188, -0.0735, -0.0181, -0.0091,  0.0656, -0.0955,\n",
       "           0.0821,  0.0427, -0.0135, -0.0650, -0.0844,  0.0010, -0.0185,  0.0018,\n",
       "           0.0472, -0.0388, -0.0338, -0.0773],\n",
       "         [ 0.1074,  0.0345, -0.0318,  0.0600,  0.0066, -0.0386, -0.0907,  0.0219,\n",
       "          -0.0961,  0.0088,  0.0713,  0.0185, -0.0400,  0.0605,  0.0629,  0.0392,\n",
       "          -0.1032,  0.0830,  0.0993, -0.0450, -0.0331, -0.0809, -0.0082,  0.0443,\n",
       "           0.0714, -0.1018,  0.0977,  0.0279,  0.0953,  0.0833, -0.0541, -0.0499,\n",
       "           0.0076, -0.0961, -0.0402, -0.0775,  0.0937, -0.0322, -0.0701, -0.0938,\n",
       "           0.0733, -0.0547, -0.0945,  0.0700,  0.0976, -0.0859, -0.0065,  0.0637,\n",
       "           0.0355,  0.0921,  0.0324,  0.0060,  0.0133,  0.0060, -0.0405, -0.0368,\n",
       "          -0.0348, -0.1088,  0.1050, -0.0042,  0.0878, -0.0204, -0.0361,  0.0483,\n",
       "          -0.0026,  0.0610,  0.0870, -0.0615, -0.0501, -0.0475,  0.0345,  0.1017,\n",
       "          -0.0688,  0.0477, -0.0511,  0.0334, -0.0374,  0.0958,  0.0281, -0.0238,\n",
       "           0.1076,  0.0919, -0.0988, -0.0029],\n",
       "         [-0.1035, -0.0049, -0.0993,  0.0431,  0.0906,  0.0411, -0.1054,  0.0875,\n",
       "          -0.0712,  0.0733,  0.0691,  0.1081, -0.0787,  0.0681, -0.0597,  0.0552,\n",
       "          -0.0150, -0.0864, -0.0934,  0.0336, -0.0736,  0.0793,  0.0332,  0.0908,\n",
       "          -0.0950,  0.1022, -0.0258, -0.0566,  0.0558, -0.0085, -0.0182, -0.0236,\n",
       "           0.0809, -0.0663, -0.1041,  0.0348, -0.0809,  0.0227,  0.0833, -0.0541,\n",
       "          -0.0634, -0.0438,  0.0929,  0.0600, -0.0781, -0.0600,  0.0647,  0.0766,\n",
       "           0.0064, -0.0237,  0.0823,  0.0980, -0.0590,  0.0723,  0.0871,  0.0235,\n",
       "          -0.0657, -0.1034,  0.0505, -0.0745,  0.0945, -0.0646,  0.0844,  0.1060,\n",
       "           0.0670, -0.0342,  0.0072, -0.0094,  0.0012, -0.0528, -0.0775,  0.0175,\n",
       "          -0.0798,  0.0619, -0.0047, -0.0786,  0.0717,  0.0939,  0.0186,  0.0708,\n",
       "          -0.0564, -0.0468,  0.0832,  0.1046],\n",
       "         [-0.0447, -0.0015,  0.0072, -0.0074, -0.0828, -0.0568, -0.0990,  0.0633,\n",
       "           0.0763, -0.1082, -0.0275, -0.0712,  0.0221, -0.0029, -0.0023, -0.0070,\n",
       "          -0.0945,  0.0904,  0.0633,  0.0593, -0.1064, -0.0879, -0.0884,  0.0336,\n",
       "          -0.0025, -0.1049, -0.1016,  0.0416, -0.0206,  0.0220, -0.0375, -0.0213,\n",
       "           0.1009,  0.0695, -0.0980, -0.0836,  0.0817,  0.0959,  0.0579, -0.0781,\n",
       "           0.0174,  0.0884, -0.0391, -0.0299, -0.0682, -0.1034, -0.1085,  0.0383,\n",
       "          -0.1024,  0.0515,  0.0953, -0.0144,  0.0094,  0.0217,  0.0125, -0.0295,\n",
       "           0.0833,  0.0787,  0.0926,  0.1065,  0.0323,  0.0584, -0.0406, -0.0297,\n",
       "           0.0358, -0.0537, -0.0908, -0.0175,  0.0556, -0.0606, -0.0174, -0.0109,\n",
       "          -0.0644, -0.0272,  0.0764,  0.0768,  0.0794, -0.0110,  0.0904, -0.0536,\n",
       "           0.0245, -0.0937,  0.0110,  0.0924],\n",
       "         [ 0.0735, -0.0962,  0.0030,  0.1021,  0.0959,  0.0160,  0.0322,  0.0154,\n",
       "          -0.1027, -0.0403,  0.0165,  0.1002, -0.0416,  0.0929, -0.0044, -0.1000,\n",
       "           0.0681, -0.0329,  0.0048,  0.0085,  0.0751,  0.0238,  0.0347, -0.0982,\n",
       "           0.0823,  0.0685,  0.0300,  0.0055,  0.0728, -0.0182,  0.0080, -0.0476,\n",
       "           0.0317,  0.0824,  0.0729, -0.0966,  0.0284,  0.0595, -0.0399, -0.1009,\n",
       "          -0.0820, -0.0451,  0.0033,  0.0771, -0.1083,  0.0718, -0.0349, -0.1049,\n",
       "          -0.0323, -0.0224,  0.0555,  0.0918,  0.0465,  0.0222, -0.0133,  0.1089,\n",
       "          -0.0593, -0.0693, -0.0543, -0.0257, -0.0773, -0.0856, -0.0199, -0.1074,\n",
       "           0.0791,  0.0135,  0.0454,  0.0451,  0.0795, -0.0081,  0.0388,  0.0795,\n",
       "          -0.1044,  0.0143, -0.0350, -0.0800,  0.0117, -0.1073, -0.0834, -0.0680,\n",
       "           0.0823,  0.1010,  0.0328,  0.0653],\n",
       "         [ 0.0029,  0.0302, -0.0632, -0.1066,  0.0036,  0.0892,  0.0359,  0.0502,\n",
       "          -0.0577,  0.0722,  0.0915, -0.0257, -0.1015,  0.0969,  0.0782, -0.0548,\n",
       "           0.0629, -0.0465, -0.1072,  0.0081,  0.0639,  0.0535,  0.0503,  0.0328,\n",
       "          -0.0191, -0.0691, -0.0094,  0.0984,  0.0734, -0.0410,  0.0853, -0.0723,\n",
       "           0.0690,  0.0931,  0.0848,  0.1044, -0.0381,  0.0454, -0.0226, -0.0384,\n",
       "          -0.0839,  0.0964, -0.0701,  0.0333, -0.0969,  0.0315,  0.0220, -0.0942,\n",
       "           0.0768,  0.0332,  0.0324,  0.0988,  0.0745,  0.0377,  0.0628,  0.0009,\n",
       "          -0.0473, -0.0529,  0.1030, -0.0348,  0.0497, -0.0462, -0.0378, -0.0497,\n",
       "          -0.0237, -0.0046, -0.1072,  0.0533,  0.0636, -0.0968, -0.0597, -0.0531,\n",
       "          -0.0926, -0.0273, -0.0570,  0.0762, -0.0545, -0.0702,  0.0753, -0.0710,\n",
       "           0.0975, -0.1027,  0.0781, -0.0119],\n",
       "         [-0.0218, -0.0378, -0.0146, -0.0986,  0.0205, -0.0272, -0.0191,  0.0516,\n",
       "          -0.0273, -0.0783,  0.0685,  0.0193, -0.0080, -0.0320, -0.0560,  0.0447,\n",
       "          -0.0001, -0.0147,  0.0643,  0.0836,  0.0724,  0.0552,  0.0868, -0.0173,\n",
       "          -0.0014, -0.1023,  0.0365, -0.0052,  0.0183, -0.0279, -0.0465, -0.0964,\n",
       "          -0.0344, -0.0371,  0.0843,  0.0416,  0.0815, -0.0584, -0.1072,  0.0995,\n",
       "          -0.0782,  0.1008,  0.0253,  0.0920,  0.1050, -0.0040,  0.0183, -0.0308,\n",
       "          -0.1026,  0.0451,  0.0813,  0.0762,  0.1074, -0.0970, -0.0823, -0.0158,\n",
       "           0.0724,  0.0010,  0.0668, -0.0225, -0.0774,  0.0596,  0.0301, -0.1039,\n",
       "           0.1026, -0.0997,  0.0045,  0.0664,  0.0519, -0.0146, -0.0922,  0.0018,\n",
       "          -0.0996, -0.0234, -0.0159,  0.0417, -0.1000, -0.0996,  0.0718, -0.0940,\n",
       "          -0.0228,  0.1083,  0.0608, -0.0486],\n",
       "         [-0.0769, -0.0503,  0.0734, -0.0070,  0.0688, -0.0675,  0.1076, -0.0342,\n",
       "          -0.0089, -0.0334, -0.0552, -0.0932,  0.0944, -0.0576,  0.1060,  0.0682,\n",
       "           0.0660, -0.0258,  0.1038,  0.0858, -0.0016, -0.0884, -0.0561,  0.0299,\n",
       "          -0.1081, -0.0684, -0.0565,  0.0421,  0.0222,  0.0844,  0.0488, -0.0055,\n",
       "          -0.0806,  0.0735, -0.0546,  0.0958, -0.0754, -0.0340,  0.0077, -0.0798,\n",
       "           0.0688, -0.0219,  0.1072,  0.0249, -0.0813,  0.0421, -0.1079, -0.0091,\n",
       "          -0.0631,  0.0204,  0.0180,  0.0814, -0.0642,  0.0114, -0.0346, -0.0404,\n",
       "           0.0320, -0.0682, -0.1069,  0.0698,  0.0885,  0.0472,  0.0977, -0.0074,\n",
       "           0.0899, -0.0674,  0.0264, -0.0748, -0.0541,  0.0975, -0.0807, -0.0403,\n",
       "          -0.0512,  0.1013,  0.0454, -0.0907, -0.0664,  0.0675,  0.0179,  0.0776,\n",
       "          -0.0886, -0.0057, -0.1086, -0.0578],\n",
       "         [-0.0733, -0.0214, -0.0088, -0.0515,  0.0527, -0.0114, -0.0197, -0.1074,\n",
       "           0.0943,  0.0127,  0.0343, -0.0441,  0.0905, -0.0870, -0.1059,  0.0466,\n",
       "          -0.0585,  0.0512, -0.1007, -0.0590, -0.0963,  0.0857,  0.0991, -0.0459,\n",
       "          -0.1016, -0.0422,  0.1058, -0.0551, -0.0192, -0.0488,  0.0625, -0.0496,\n",
       "          -0.0530, -0.1012,  0.0943, -0.0150, -0.0224, -0.0161,  0.0519,  0.0554,\n",
       "          -0.1080, -0.0755, -0.0542, -0.0884, -0.0158,  0.0363,  0.0473, -0.0446,\n",
       "          -0.0116,  0.0106, -0.0221, -0.0991,  0.0826,  0.0268, -0.0744,  0.0602,\n",
       "           0.0365, -0.0885, -0.0735,  0.0199,  0.0707, -0.0880,  0.1027,  0.0853,\n",
       "          -0.0408, -0.0488, -0.0771,  0.0012, -0.0158,  0.0028, -0.0325,  0.0079,\n",
       "          -0.0800,  0.0487,  0.0181, -0.0047, -0.0824, -0.0029,  0.0849,  0.0211,\n",
       "           0.0792, -0.0990, -0.0911,  0.0350],\n",
       "         [ 0.0214, -0.0759, -0.0715,  0.0286,  0.0875,  0.0324, -0.0257,  0.0397,\n",
       "          -0.0981,  0.0467,  0.0167, -0.0483, -0.0825, -0.0287, -0.0730, -0.0480,\n",
       "           0.0668, -0.0059, -0.0200,  0.0950, -0.0729, -0.0252, -0.0726, -0.1014,\n",
       "          -0.0488,  0.0877,  0.0569,  0.0699,  0.0298, -0.0760,  0.0475,  0.0893,\n",
       "          -0.0440,  0.0800,  0.0099,  0.0476,  0.0080,  0.0276,  0.0650,  0.0436,\n",
       "           0.0954,  0.0732,  0.0091,  0.1037,  0.0496, -0.0483,  0.0815,  0.0111,\n",
       "          -0.0602,  0.0693, -0.0069, -0.0202, -0.0842, -0.0074,  0.0282, -0.0118,\n",
       "          -0.0995, -0.0977, -0.0486,  0.0109,  0.0448, -0.1040,  0.0303, -0.0023,\n",
       "          -0.0152, -0.0826, -0.0801, -0.0284, -0.0851, -0.0614,  0.0979,  0.0399,\n",
       "          -0.0625, -0.0157, -0.1083,  0.1048,  0.0292,  0.0491,  0.0220, -0.0081,\n",
       "          -0.0518,  0.0503, -0.0832,  0.0145]], requires_grad=True),\n",
       " Parameter containing:\n",
       " tensor([-0.0056, -0.1084, -0.0816, -0.1054, -0.0425,  0.0580, -0.0982, -0.0594,\n",
       "         -0.0494, -0.0353], requires_grad=True)]"
      ]
     },
     "execution_count": 91,
     "metadata": {},
     "output_type": "execute_result"
    }
   ],
   "source": [
    "list(net.parameters())"
   ]
  },
  {
   "cell_type": "code",
   "execution_count": 92,
   "metadata": {},
   "outputs": [],
   "source": [
    "input = torch.randn(1,1,32,32)"
   ]
  },
  {
   "cell_type": "code",
   "execution_count": 93,
   "metadata": {},
   "outputs": [],
   "source": [
    "out = net(input)"
   ]
  },
  {
   "cell_type": "code",
   "execution_count": 94,
   "metadata": {},
   "outputs": [
    {
     "data": {
      "text/plain": [
       "tensor([[-0.0594, -0.0504, -0.0825, -0.0581, -0.0539,  0.0385, -0.0978, -0.1197,\n",
       "         -0.1653, -0.0781]], grad_fn=<AddmmBackward>)"
      ]
     },
     "execution_count": 94,
     "metadata": {},
     "output_type": "execute_result"
    }
   ],
   "source": [
    "out"
   ]
  },
  {
   "cell_type": "code",
   "execution_count": 95,
   "metadata": {},
   "outputs": [],
   "source": [
    "net.zero_grad()"
   ]
  },
  {
   "cell_type": "code",
   "execution_count": 96,
   "metadata": {},
   "outputs": [
    {
     "data": {
      "text/plain": [
       "Net(\n",
       "  (conv1): Conv2d(1, 6, kernel_size=(3, 3), stride=(1, 1))\n",
       "  (conv2): Conv2d(6, 16, kernel_size=(3, 3), stride=(1, 1))\n",
       "  (fc1): Linear(in_features=576, out_features=120, bias=True)\n",
       "  (fc2): Linear(in_features=120, out_features=84, bias=True)\n",
       "  (fc3): Linear(in_features=84, out_features=10, bias=True)\n",
       ")"
      ]
     },
     "execution_count": 96,
     "metadata": {},
     "output_type": "execute_result"
    }
   ],
   "source": [
    "net"
   ]
  },
  {
   "cell_type": "code",
   "execution_count": 98,
   "metadata": {},
   "outputs": [],
   "source": [
    "out.backward(torch.randn(1,10))"
   ]
  },
  {
   "cell_type": "code",
   "execution_count": null,
   "metadata": {},
   "outputs": [],
   "source": []
  }
 ],
 "metadata": {
  "kernelspec": {
   "display_name": "pytorch",
   "language": "python",
   "name": "pytorch"
  },
  "language_info": {
   "codemirror_mode": {
    "name": "ipython",
    "version": 3
   },
   "file_extension": ".py",
   "mimetype": "text/x-python",
   "name": "python",
   "nbconvert_exporter": "python",
   "pygments_lexer": "ipython3",
   "version": "3.7.5"
  }
 },
 "nbformat": 4,
 "nbformat_minor": 4
}

{
 "cells": [
  {
   "cell_type": "code",
   "execution_count": 31,
   "metadata": {},
   "outputs": [],
   "source": [
    "# test for reading JMA radar data in netcdf format\n",
    "import netCDF4\n",
    "import matplotlib.pyplot as plt"
   ]
  },
  {
   "cell_type": "code",
   "execution_count": 3,
   "metadata": {},
   "outputs": [
    {
     "ename": "KeyError",
     "evalue": "'dimname'",
     "output_type": "error",
     "traceback": [
      "\u001b[0;31m---------------------------------------------------------------------------\u001b[0m",
      "\u001b[0;31mKeyError\u001b[0m                                  Traceback (most recent call last)",
      "\u001b[0;32m<ipython-input-3-ab30cb8d0136>\u001b[0m in \u001b[0;36m<module>\u001b[0;34m()\u001b[0m\n\u001b[1;32m      1\u001b[0m \u001b[0mnc\u001b[0m \u001b[0;34m=\u001b[0m \u001b[0mnetCDF4\u001b[0m\u001b[0;34m.\u001b[0m\u001b[0mDataset\u001b[0m\u001b[0;34m(\u001b[0m\u001b[0;34m'../data/2015/01/01/2p-jmaradar5_2015-01-01_0000utc.nc'\u001b[0m\u001b[0;34m,\u001b[0m \u001b[0;34m'r'\u001b[0m\u001b[0;34m)\u001b[0m\u001b[0;34m\u001b[0m\u001b[0m\n\u001b[0;32m----> 2\u001b[0;31m \u001b[0mdim\u001b[0m \u001b[0;34m=\u001b[0m \u001b[0mlen\u001b[0m\u001b[0;34m(\u001b[0m\u001b[0mnc\u001b[0m\u001b[0;34m.\u001b[0m\u001b[0mdimensions\u001b[0m\u001b[0;34m[\u001b[0m\u001b[0;34m'dimname'\u001b[0m\u001b[0;34m]\u001b[0m\u001b[0;34m)\u001b[0m\u001b[0;34m\u001b[0m\u001b[0m\n\u001b[0m\u001b[1;32m      3\u001b[0m \u001b[0mvar\u001b[0m \u001b[0;34m=\u001b[0m \u001b[0mnc\u001b[0m\u001b[0;34m.\u001b[0m\u001b[0mvariables\u001b[0m\u001b[0;34m[\u001b[0m\u001b[0;34m'varname'\u001b[0m\u001b[0;34m]\u001b[0m\u001b[0;34m[\u001b[0m\u001b[0;34m:\u001b[0m\u001b[0;34m]\u001b[0m\u001b[0;34m\u001b[0m\u001b[0m\n",
      "\u001b[0;31mKeyError\u001b[0m: 'dimname'"
     ]
    }
   ],
   "source": [
    "nc = netCDF4.Dataset('../data/2015/01/01/2p-jmaradar5_2015-01-01_0000utc.nc', 'r')"
   ]
  },
  {
   "cell_type": "code",
   "execution_count": 17,
   "metadata": {},
   "outputs": [
    {
     "name": "stdout",
     "output_type": "stream",
     "text": [
      "dims: 2560 3360 1\n"
     ]
    }
   ],
   "source": [
    "# dimensions\n",
    "nx = len(nc.dimensions['LON'])\n",
    "ny = len(nc.dimensions['LAT'])\n",
    "nt = len(nc.dimensions['TIME'])\n",
    "print(\"dims:\",nx,ny,nt)"
   ]
  },
  {
   "cell_type": "code",
   "execution_count": 48,
   "metadata": {},
   "outputs": [],
   "source": [
    "lons = nc.variables['LON'][:]\n",
    "lats = nc.variables['LAT'][:]"
   ]
  },
  {
   "cell_type": "code",
   "execution_count": 46,
   "metadata": {},
   "outputs": [
    {
     "data": {
      "text/plain": [
       "masked_array(data=[118.00625, 118.01875, 118.03125, ..., 149.96875,\n",
       "                   149.98125000000002, 149.99375],\n",
       "             mask=[False, False, False, ..., False, False, False],\n",
       "       fill_value=9.969209968386869e+36)"
      ]
     },
     "execution_count": 46,
     "metadata": {},
     "output_type": "execute_result"
    }
   ],
   "source": [
    "lons"
   ]
  },
  {
   "cell_type": "code",
   "execution_count": 24,
   "metadata": {},
   "outputs": [
    {
     "data": {
      "text/plain": [
       "<class 'netCDF4._netCDF4.Variable'>\n",
       "int16 PRATE(TIME, LAT, LON)\n",
       "    long_name: Precipitation rate (5 min.)\n",
       "    units: 1e-3 meter/hour\n",
       "    missing_value: -32768\n",
       "    scale_factor: 0.01\n",
       "    add_offset: 0.0\n",
       "unlimited dimensions: \n",
       "current shape = (1, 3360, 2560)\n",
       "filling on, default _FillValue of -32767 used"
      ]
     },
     "execution_count": 24,
     "metadata": {},
     "output_type": "execute_result"
    }
   ],
   "source": [
    "# rain variable\n",
    "nc.variables['PRATE']"
   ]
  },
  {
   "cell_type": "code",
   "execution_count": 25,
   "metadata": {},
   "outputs": [],
   "source": [
    "R = nc.variables['PRATE'][:]"
   ]
  },
  {
   "cell_type": "code",
   "execution_count": 29,
   "metadata": {},
   "outputs": [
    {
     "data": {
      "text/plain": [
       "(1, 3360, 2560)"
      ]
     },
     "execution_count": 29,
     "metadata": {},
     "output_type": "execute_result"
    }
   ],
   "source": [
    "R.data.shape"
   ]
  },
  {
   "cell_type": "code",
   "execution_count": 30,
   "metadata": {},
   "outputs": [
    {
     "data": {
      "text/plain": [
       "array([[-32768., -32768., -32768., ..., -32768., -32768., -32768.],\n",
       "       [-32768., -32768., -32768., ..., -32768., -32768., -32768.],\n",
       "       [-32768., -32768., -32768., ..., -32768., -32768., -32768.],\n",
       "       ...,\n",
       "       [-32768., -32768., -32768., ..., -32768., -32768., -32768.],\n",
       "       [-32768., -32768., -32768., ..., -32768., -32768., -32768.],\n",
       "       [-32768., -32768., -32768., ..., -32768., -32768., -32768.]],\n",
       "      dtype=float32)"
      ]
     },
     "execution_count": 30,
     "metadata": {},
     "output_type": "execute_result"
    }
   ],
   "source": [
    "R.data[0,:,:]"
   ]
  },
  {
   "cell_type": "code",
   "execution_count": 32,
   "metadata": {},
   "outputs": [
    {
     "data": {
      "text/plain": [
       "<matplotlib.image.AxesImage at 0x7f8b95da5588>"
      ]
     },
     "execution_count": 32,
     "metadata": {},
     "output_type": "execute_result"
    },
    {
     "data": {
      "image/png": "[encoded data removed]",
      "text/plain": [
       "<Figure size 432x288 with 1 Axes>"
      ]
     },
     "metadata": {},
     "output_type": "display_data"
    }
   ],
   "source": [
    "# showning a shape of Japan upside-down\n",
    "plt.imshow(R.data[0,:,:])"
   ]
  },
  {
   "cell_type": "code",
   "execution_count": 50,
   "metadata": {},
   "outputs": [],
   "source": [
    "from mpl_toolkits.basemap import Basemap\n",
    "import numpy as np"
   ]
  },
  {
   "cell_type": "code",
   "execution_count": 36,
   "metadata": {},
   "outputs": [],
   "source": [
    "# Get some parameters for the Stereographic Projection\n",
    "lat_0 = 35.5\n",
    "lon_0 = 139.0\n",
    "m = Basemap(width=500000,height=350000,\n",
    "            resolution='l',projection='stere',\\\n",
    "            lat_ts=35,lat_0=lat_0,lon_0=lon_0)"
   ]
  },
  {
   "cell_type": "code",
   "execution_count": 51,
   "metadata": {},
   "outputs": [],
   "source": [
    "# Because our lon and lat variables are 1D,\n",
    "# use meshgrid to create 2D arrays\n",
    "# Not necessary if coordinates are already in 2D arrays.\n",
    "lon, lat = np.meshgrid(lons, lats)\n",
    "xi, yi = m(lon, lat)"
   ]
  },
  {
   "cell_type": "code",
   "execution_count": 52,
   "metadata": {},
   "outputs": [
    {
     "name": "stderr",
     "output_type": "stream",
     "text": [
      "/home/tsuyoshi/anaconda3/envs/fastai/lib/python3.6/site-packages/mpl_toolkits/basemap/__init__.py:3342: MatplotlibDeprecationWarning: The ishold function was deprecated in version 2.0.\n",
      "  b = ax.ishold()\n",
      "/home/tsuyoshi/anaconda3/envs/fastai/lib/python3.6/site-packages/mpl_toolkits/basemap/__init__.py:3381: MatplotlibDeprecationWarning: axes.hold is deprecated.\n",
      "    See the API Changes document (http://matplotlib.org/api/api_changes.html)\n",
      "    for more details.\n",
      "  ax.hold(b)\n"
     ]
    },
    {
     "data": {
      "image/png": "[encoded data removed]",
      "text/plain": [
       "<Figure size 432x288 with 2 Axes>"
      ]
     },
     "metadata": {},
     "output_type": "display_data"
    }
   ],
   "source": [
    "# Plot Data\n",
    "cs = m.pcolor(xi,yi,np.squeeze(R))\n",
    "\n",
    "# Add Grid Lines\n",
    "m.drawparallels(np.arange(-80., 81., 10.), labels=[1,0,0,0], fontsize=10)\n",
    "m.drawmeridians(np.arange(-180., 181., 10.), labels=[0,0,0,1], fontsize=10)\n",
    "\n",
    "# Add Coastlines, States, and Country Boundaries\n",
    "m.drawcoastlines()\n",
    "m.drawstates()\n",
    "m.drawcountries()\n",
    "\n",
    "# Add Colorbar\n",
    "cbar = m.colorbar(cs, location='bottom', pad=\"10%\")\n",
    "#cbar.set_label(tmax_units)\n",
    "\n",
    "# Add Title\n",
    "plt.title('Rainfall')\n",
    "\n",
    "plt.show()"
   ]
  },
  {
   "cell_type": "code",
   "execution_count": 56,
   "metadata": {},
   "outputs": [
    {
     "data": {
      "text/plain": [
       "0.012500000000002842"
      ]
     },
     "execution_count": 56,
     "metadata": {},
     "output_type": "execute_result"
    }
   ],
   "source": [
    "lons.data[1]-lons.data[0]"
   ]
  },
  {
   "cell_type": "code",
   "execution_count": 57,
   "metadata": {},
   "outputs": [
    {
     "data": {
      "text/plain": [
       "0.00833333313486051"
      ]
     },
     "execution_count": 57,
     "metadata": {},
     "output_type": "execute_result"
    }
   ],
   "source": [
    "lats.data[1]-lats.data[0]"
   ]
  },
  {
   "cell_type": "code",
   "execution_count": 72,
   "metadata": {},
   "outputs": [],
   "source": [
    "# clip area around tokyo\n",
    "lat_tokyo = 35.681167\n",
    "lon_tokyo = 139.767052\n",
    "nx_clip = 200\n",
    "ny_clip = 200\n",
    "i0=np.argmin(np.abs(lons.data-lon_tokyo)) - int(nx_clip/2)\n",
    "j0=np.argmin(np.abs(lats.data-lat_tokyo)) - int(ny_clip/2)\n",
    "i1=i0+nx_clip\n",
    "j1=j0+ny_clip"
   ]
  },
  {
   "cell_type": "code",
   "execution_count": 73,
   "metadata": {},
   "outputs": [
    {
     "data": {
      "text/plain": [
       "200"
      ]
     },
     "execution_count": 73,
     "metadata": {},
     "output_type": "execute_result"
    }
   ],
   "source": [
    "i1-i0"
   ]
  },
  {
   "cell_type": "code",
   "execution_count": 75,
   "metadata": {},
   "outputs": [
    {
     "data": {
      "text/plain": [
       "array([138.51875, 138.53125, 138.54375, 138.55625, 138.56875, 138.58125,\n",
       "       138.59375, 138.60625, 138.61875, 138.63125, 138.64375, 138.65625,\n",
       "       138.66875, 138.68125, 138.69375, 138.70625, 138.71875, 138.73125,\n",
       "       138.74375, 138.75625, 138.76875, 138.78125, 138.79375, 138.80625,\n",
       "       138.81875, 138.83125, 138.84375, 138.85625, 138.86875, 138.88125,\n",
       "       138.89375, 138.90625, 138.91875, 138.93125, 138.94375, 138.95625,\n",
       "       138.96875, 138.98125, 138.99375, 139.00625, 139.01875, 139.03125,\n",
       "       139.04375, 139.05625, 139.06875, 139.08125, 139.09375, 139.10625,\n",
       "       139.11875, 139.13125, 139.14375, 139.15625, 139.16875, 139.18125,\n",
       "       139.19375, 139.20625, 139.21875, 139.23125, 139.24375, 139.25625,\n",
       "       139.26875, 139.28125, 139.29375, 139.30625, 139.31875, 139.33125,\n",
       "       139.34375, 139.35625, 139.36875, 139.38125, 139.39375, 139.40625,\n",
       "       139.41875, 139.43125, 139.44375, 139.45625, 139.46875, 139.48125,\n",
       "       139.49375, 139.50625, 139.51875, 139.53125, 139.54375, 139.55625,\n",
       "       139.56875, 139.58125, 139.59375, 139.60625, 139.61875, 139.63125,\n",
       "       139.64375, 139.65625, 139.66875, 139.68125, 139.69375, 139.70625,\n",
       "       139.71875, 139.73125, 139.74375, 139.75625, 139.76875, 139.78125,\n",
       "       139.79375, 139.80625, 139.81875, 139.83125, 139.84375, 139.85625,\n",
       "       139.86875, 139.88125, 139.89375, 139.90625, 139.91875, 139.93125,\n",
       "       139.94375, 139.95625, 139.96875, 139.98125, 139.99375, 140.00625,\n",
       "       140.01875, 140.03125, 140.04375, 140.05625, 140.06875, 140.08125,\n",
       "       140.09375, 140.10625, 140.11875, 140.13125, 140.14375, 140.15625,\n",
       "       140.16875, 140.18125, 140.19375, 140.20625, 140.21875, 140.23125,\n",
       "       140.24375, 140.25625, 140.26875, 140.28125, 140.29375, 140.30625,\n",
       "       140.31875, 140.33125, 140.34375, 140.35625, 140.36875, 140.38125,\n",
       "       140.39375, 140.40625, 140.41875, 140.43125, 140.44375, 140.45625,\n",
       "       140.46875, 140.48125, 140.49375, 140.50625, 140.51875, 140.53125,\n",
       "       140.54375, 140.55625, 140.56875, 140.58125, 140.59375, 140.60625,\n",
       "       140.61875, 140.63125, 140.64375, 140.65625, 140.66875, 140.68125,\n",
       "       140.69375, 140.70625, 140.71875, 140.73125, 140.74375, 140.75625,\n",
       "       140.76875, 140.78125, 140.79375, 140.80625, 140.81875, 140.83125,\n",
       "       140.84375, 140.85625, 140.86875, 140.88125, 140.89375, 140.90625,\n",
       "       140.91875, 140.93125, 140.94375, 140.95625, 140.96875, 140.98125,\n",
       "       140.99375, 141.00625])"
      ]
     },
     "execution_count": 75,
     "metadata": {},
     "output_type": "execute_result"
    }
   ],
   "source": [
    "lons.data[i0:i1]"
   ]
  },
  {
   "cell_type": "code",
   "execution_count": 89,
   "metadata": {},
   "outputs": [],
   "source": [
    "Rclip = R.data[0,j0:j1,i0:i1]\n",
    "lon_clip=lons.data[i0:i1]\n",
    "lat_clip=lats.data[j0:j1]"
   ]
  },
  {
   "cell_type": "code",
   "execution_count": 80,
   "metadata": {},
   "outputs": [
    {
     "data": {
      "text/plain": [
       "2.6299999"
      ]
     },
     "execution_count": 80,
     "metadata": {},
     "output_type": "execute_result"
    }
   ],
   "source": [
    "Rclip.max()"
   ]
  },
  {
   "cell_type": "code",
   "execution_count": 81,
   "metadata": {},
   "outputs": [
    {
     "data": {
      "text/plain": [
       "0.0"
      ]
     },
     "execution_count": 81,
     "metadata": {},
     "output_type": "execute_result"
    }
   ],
   "source": [
    "Rclip.min()"
   ]
  },
  {
   "cell_type": "code",
   "execution_count": 83,
   "metadata": {},
   "outputs": [
    {
     "data": {
      "text/plain": [
       "0.04122675"
      ]
     },
     "execution_count": 83,
     "metadata": {},
     "output_type": "execute_result"
    }
   ],
   "source": [
    "Rclip.mean()"
   ]
  },
  {
   "cell_type": "code",
   "execution_count": 84,
   "metadata": {},
   "outputs": [
    {
     "data": {
      "text/plain": [
       "<matplotlib.image.AxesImage at 0x7f8b5f764b00>"
      ]
     },
     "execution_count": 84,
     "metadata": {},
     "output_type": "execute_result"
    },
    {
     "data": {
      "image/png": "[encoded data removed]",
      "text/plain": [
       "<Figure size 432x288 with 1 Axes>"
      ]
     },
     "metadata": {},
     "output_type": "display_data"
    }
   ],
   "source": [
    "plt.imshow(Rclip)"
   ]
  },
  {
   "cell_type": "code",
   "execution_count": 90,
   "metadata": {},
   "outputs": [
    {
     "data": {
      "text/plain": [
       "array([34.84583331, 34.85416665, 34.86249998, 34.87083331, 34.87916665,\n",
       "       34.88749998, 34.89583331, 34.90416665, 34.91249998, 34.92083331,\n",
       "       34.92916664, 34.93749998, 34.94583331, 34.95416664, 34.96249998,\n",
       "       34.97083331, 34.97916664, 34.98749998, 34.99583331, 35.00416664,\n",
       "       35.01249998, 35.02083331, 35.02916664, 35.03749998, 35.04583331,\n",
       "       35.05416664, 35.06249997, 35.07083331, 35.07916664, 35.08749997,\n",
       "       35.09583331, 35.10416664, 35.11249997, 35.12083331, 35.12916664,\n",
       "       35.13749997, 35.14583331, 35.15416664, 35.16249997, 35.17083331,\n",
       "       35.17916664, 35.18749997, 35.1958333 , 35.20416664, 35.21249997,\n",
       "       35.2208333 , 35.22916664, 35.23749997, 35.2458333 , 35.25416664,\n",
       "       35.26249997, 35.2708333 , 35.27916664, 35.28749997, 35.2958333 ,\n",
       "       35.30416664, 35.31249997, 35.3208333 , 35.32916664, 35.33749997,\n",
       "       35.3458333 , 35.35416663, 35.36249997, 35.3708333 , 35.37916663,\n",
       "       35.38749997, 35.3958333 , 35.40416663, 35.41249997, 35.4208333 ,\n",
       "       35.42916663, 35.43749997, 35.4458333 , 35.45416663, 35.46249997,\n",
       "       35.4708333 , 35.47916663, 35.48749996, 35.4958333 , 35.50416663,\n",
       "       35.51249996, 35.5208333 , 35.52916663, 35.53749996, 35.5458333 ,\n",
       "       35.55416663, 35.56249996, 35.5708333 , 35.57916663, 35.58749996,\n",
       "       35.5958333 , 35.60416663, 35.61249996, 35.62083329, 35.62916663,\n",
       "       35.63749996, 35.64583329, 35.65416663, 35.66249996, 35.67083329,\n",
       "       35.67916663, 35.68749996, 35.69583329, 35.70416663, 35.71249996,\n",
       "       35.72083329, 35.72916663, 35.73749996, 35.74583329, 35.75416662,\n",
       "       35.76249996, 35.77083329, 35.77916662, 35.78749996, 35.79583329,\n",
       "       35.80416662, 35.81249996, 35.82083329, 35.82916662, 35.83749996,\n",
       "       35.84583329, 35.85416662, 35.86249996, 35.87083329, 35.87916662,\n",
       "       35.88749996, 35.89583329, 35.90416662, 35.91249995, 35.92083329,\n",
       "       35.92916662, 35.93749995, 35.94583329, 35.95416662, 35.96249995,\n",
       "       35.97083329, 35.97916662, 35.98749995, 35.99583329, 36.00416662,\n",
       "       36.01249995, 36.02083329, 36.02916662, 36.03749995, 36.04583328,\n",
       "       36.05416662, 36.06249995, 36.07083328, 36.07916662, 36.08749995,\n",
       "       36.09583328, 36.10416662, 36.11249995, 36.12083328, 36.12916662,\n",
       "       36.13749995, 36.14583328, 36.15416662, 36.16249995, 36.17083328,\n",
       "       36.17916661, 36.18749995, 36.19583328, 36.20416661, 36.21249995,\n",
       "       36.22083328, 36.22916661, 36.23749995, 36.24583328, 36.25416661,\n",
       "       36.26249995, 36.27083328, 36.27916661, 36.28749995, 36.29583328,\n",
       "       36.30416661, 36.31249994, 36.32083328, 36.32916661, 36.33749994,\n",
       "       36.34583328, 36.35416661, 36.36249994, 36.37083328, 36.37916661,\n",
       "       36.38749994, 36.39583328, 36.40416661, 36.41249994, 36.42083328,\n",
       "       36.42916661, 36.43749994, 36.44583328, 36.45416661, 36.46249994,\n",
       "       36.47083327, 36.47916661, 36.48749994, 36.49583327, 36.50416661])"
      ]
     },
     "execution_count": 90,
     "metadata": {},
     "output_type": "execute_result"
    }
   ],
   "source": [
    "lat_clip"
   ]
  },
  {
   "cell_type": "code",
   "execution_count": 91,
   "metadata": {},
   "outputs": [],
   "source": [
    "import glob"
   ]
  },
  {
   "cell_type": "code",
   "execution_count": 93,
   "metadata": {},
   "outputs": [],
   "source": [
    "import gzip"
   ]
  },
  {
   "cell_type": "code",
   "execution_count": 101,
   "metadata": {},
   "outputs": [],
   "source": [
    "id = [i*5 for i in range(12)]"
   ]
  },
  {
   "cell_type": "code",
   "execution_count": 102,
   "metadata": {},
   "outputs": [
    {
     "data": {
      "text/plain": [
       "[0, 5, 10, 15, 20, 25, 30, 35, 40, 45, 50, 55]"
      ]
     },
     "execution_count": 102,
     "metadata": {},
     "output_type": "execute_result"
    }
   ],
   "source": [
    "id"
   ]
  },
  {
   "cell_type": "code",
   "execution_count": 103,
   "metadata": {},
   "outputs": [
    {
     "ename": "TypeError",
     "evalue": "must be str, not list",
     "output_type": "error",
     "traceback": [
      "\u001b[0;31m---------------------------------------------------------------------------\u001b[0m",
      "\u001b[0;31mTypeError\u001b[0m                                 Traceback (most recent call last)",
      "\u001b[0;32m<ipython-input-103-686a7f7faf3d>\u001b[0m in \u001b[0;36m<module>\u001b[0;34m()\u001b[0m\n\u001b[0;32m----> 1\u001b[0;31m \u001b[0;34m\"file\"\u001b[0m\u001b[0;34m+\u001b[0m\u001b[0mid\u001b[0m\u001b[0;34m\u001b[0m\u001b[0m\n\u001b[0m",
      "\u001b[0;31mTypeError\u001b[0m: must be str, not list"
     ]
    }
   ],
   "source": [
    "\"file\"+id"
   ]
  },
  {
   "cell_type": "code",
   "execution_count": null,
   "metadata": {},
   "outputs": [],
   "source": [
    "for "
   ]
  }
 ],
 "metadata": {
  "kernelspec": {
   "display_name": "Python 3",
   "language": "python",
   "name": "python3"
  },
  "language_info": {
   "codemirror_mode": {
    "name": "ipython",
    "version": 3
   },
   "file_extension": ".py",
   "mimetype": "text/x-python",
   "name": "python",
   "nbconvert_exporter": "python",
   "pygments_lexer": "ipython3",
   "version": "3.6.5"
  }
 },
 "nbformat": 4,
 "nbformat_minor": 2
}

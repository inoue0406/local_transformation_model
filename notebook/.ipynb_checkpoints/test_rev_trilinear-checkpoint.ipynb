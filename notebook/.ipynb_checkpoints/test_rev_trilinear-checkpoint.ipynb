{
 "cells": [
  {
   "cell_type": "code",
   "execution_count": 15,
   "metadata": {},
   "outputs": [],
   "source": [
    "import torch\n",
    "import numpy as np\n",
    "import matplotlib.pyplot as plt\n",
    "import sys\n",
    "import os"
   ]
  },
  {
   "cell_type": "code",
   "execution_count": 16,
   "metadata": {},
   "outputs": [],
   "source": [
    "# -----------------------------\n",
    "# add \"src\" as import path\n",
    "path = os.path.join('/home/tsuyoshi/local_transformation_model/')\n",
    "sys.path.append(path)"
   ]
  },
  {
   "cell_type": "code",
   "execution_count": 17,
   "metadata": {},
   "outputs": [
    {
     "ename": "ModuleNotFoundError",
     "evalue": "No module named 'rev_trilinear.rev_trilinear_interp'; 'rev_trilinear' is not a package",
     "output_type": "error",
     "traceback": [
      "\u001b[0;31m---------------------------------------------------------------------------\u001b[0m",
      "\u001b[0;31mModuleNotFoundError\u001b[0m                       Traceback (most recent call last)",
      "\u001b[0;32m<ipython-input-17-d51294fc365f>\u001b[0m in \u001b[0;36m<module>\u001b[0;34m\u001b[0m\n\u001b[0;32m----> 1\u001b[0;31m \u001b[0;32mfrom\u001b[0m \u001b[0mrev_trilinear\u001b[0m\u001b[0;34m.\u001b[0m\u001b[0mrev_trilinear_interp\u001b[0m \u001b[0;32mimport\u001b[0m \u001b[0mRevTrilinear\u001b[0m\u001b[0;34m\u001b[0m\u001b[0;34m\u001b[0m\u001b[0m\n\u001b[0m",
      "\u001b[0;31mModuleNotFoundError\u001b[0m: No module named 'rev_trilinear.rev_trilinear_interp'; 'rev_trilinear' is not a package"
     ]
    }
   ],
   "source": [
    "from rev_trilinear.rev_trilinear_interp import RevTrilinear"
   ]
  },
  {
   "cell_type": "code",
   "execution_count": 18,
   "metadata": {},
   "outputs": [
    {
     "data": {
      "text/plain": [
       "['/home/tsuyoshi/local_transformation_model/notebook',\n",
       " '/home/tsuyoshi/miniconda3/envs/pytorch/lib/python37.zip',\n",
       " '/home/tsuyoshi/miniconda3/envs/pytorch/lib/python3.7',\n",
       " '/home/tsuyoshi/miniconda3/envs/pytorch/lib/python3.7/lib-dynload',\n",
       " '',\n",
       " '/home/tsuyoshi/miniconda3/envs/pytorch/lib/python3.7/site-packages',\n",
       " '/home/tsuyoshi/miniconda3/envs/pytorch/lib/python3.7/site-packages/pretrainedmodels-0.7.4-py3.7.egg',\n",
       " '/home/tsuyoshi/miniconda3/envs/pytorch/lib/python3.7/site-packages/munch-2.5.1.dev12-py3.7.egg',\n",
       " '/home/tsuyoshi/miniconda3/envs/pytorch/lib/python3.7/site-packages/grid_average-0.0.0-py3.7-linux-x86_64.egg',\n",
       " '/home/tsuyoshi/miniconda3/envs/pytorch/lib/python3.7/site-packages/rev_trilinear-0.0.0-py3.7-linux-x86_64.egg',\n",
       " '/home/tsuyoshi/miniconda3/envs/pytorch/lib/python3.7/site-packages/IPython/extensions',\n",
       " '/home/tsuyoshi/.ipython',\n",
       " '../src']"
      ]
     },
     "execution_count": 18,
     "metadata": {},
     "output_type": "execute_result"
    }
   ],
   "source": [
    "sys.path"
   ]
  },
  {
   "cell_type": "code",
   "execution_count": 3,
   "metadata": {},
   "outputs": [],
   "source": [
    "pc = torch.rand(1, 3, 6, dtype=torch.float32, requires_grad=True).cuda()\n",
    "pc_value = torch.rand(1, 1, 6, dtype=torch.float32, requires_grad=True).cuda()"
   ]
  },
  {
   "cell_type": "code",
   "execution_count": 8,
   "metadata": {},
   "outputs": [
    {
     "data": {
      "text/plain": [
       "torch.Size([1, 3, 6])"
      ]
     },
     "execution_count": 8,
     "metadata": {},
     "output_type": "execute_result"
    }
   ],
   "source": [
    "# x,y,z for 6 points\n",
    "pc.shape"
   ]
  },
  {
   "cell_type": "code",
   "execution_count": 9,
   "metadata": {},
   "outputs": [
    {
     "data": {
      "text/plain": [
       "torch.Size([1, 1, 6])"
      ]
     },
     "execution_count": 9,
     "metadata": {},
     "output_type": "execute_result"
    }
   ],
   "source": [
    "# value for 6 points\n",
    "pc_value.shape"
   ]
  },
  {
   "cell_type": "code",
   "execution_count": 10,
   "metadata": {},
   "outputs": [
    {
     "data": {
      "text/plain": [
       "tensor([[[0.0364, 0.8536, 0.3655, 0.2722, 0.7746, 0.6581]]], device='cuda:0',\n",
       "       grad_fn=<CopyBackwards>)"
      ]
     },
     "execution_count": 10,
     "metadata": {},
     "output_type": "execute_result"
    }
   ],
   "source": [
    "pc.requires_grad_(True)\n",
    "pc_value.requires_grad_(True)"
   ]
  },
  {
   "cell_type": "code",
   "execution_count": 11,
   "metadata": {},
   "outputs": [
    {
     "ename": "NameError",
     "evalue": "name 'RevTrilinear' is not defined",
     "output_type": "error",
     "traceback": [
      "\u001b[0;31m---------------------------------------------------------------------------\u001b[0m",
      "\u001b[0;31mNameError\u001b[0m                                 Traceback (most recent call last)",
      "\u001b[0;32m<ipython-input-11-85fff65433d4>\u001b[0m in \u001b[0;36m<module>\u001b[0;34m\u001b[0m\n\u001b[0;32m----> 1\u001b[0;31m \u001b[0mgrid_value\u001b[0m \u001b[0;34m=\u001b[0m \u001b[0mRevTrilinear\u001b[0m\u001b[0;34m.\u001b[0m\u001b[0mapply\u001b[0m\u001b[0;34m(\u001b[0m\u001b[0mpc\u001b[0m\u001b[0;34m,\u001b[0m \u001b[0mpc_value\u001b[0m\u001b[0;34m,\u001b[0m \u001b[0;36m3\u001b[0m\u001b[0;34m)\u001b[0m\u001b[0;34m\u001b[0m\u001b[0;34m\u001b[0m\u001b[0m\n\u001b[0m",
      "\u001b[0;31mNameError\u001b[0m: name 'RevTrilinear' is not defined"
     ]
    }
   ],
   "source": [
    "grid_value = RevTrilinear.apply(pc, pc_value, 3)"
   ]
  },
  {
   "cell_type": "code",
   "execution_count": null,
   "metadata": {},
   "outputs": [],
   "source": []
  }
 ],
 "metadata": {
  "kernelspec": {
   "display_name": "pytorch",
   "language": "python",
   "name": "pytorch"
  },
  "language_info": {
   "codemirror_mode": {
    "name": "ipython",
    "version": 3
   },
   "file_extension": ".py",
   "mimetype": "text/x-python",
   "name": "python",
   "nbconvert_exporter": "python",
   "pygments_lexer": "ipython3",
   "version": "3.7.5"
  }
 },
 "nbformat": 4,
 "nbformat_minor": 4
}

{
 "cells": [
  {
   "cell_type": "markdown",
   "metadata": {},
   "source": [
    "# JMAデータセットによるデータ拡張のテスト"
   ]
  },
  {
   "cell_type": "code",
   "execution_count": 44,
   "metadata": {},
   "outputs": [],
   "source": [
    "import numpy as np\n",
    "import torch\n",
    "import torchvision\n",
    "import torch.utils.data as data\n",
    "import torchvision.transforms as transforms\n",
    "\n",
    "import pandas as pd\n",
    "import h5py\n",
    "import os\n",
    "import sys\n",
    "import json\n",
    "import time"
   ]
  },
  {
   "cell_type": "code",
   "execution_count": 45,
   "metadata": {},
   "outputs": [],
   "source": [
    "# -----------------------------\n",
    "# add \"src\" as import path\n",
    "path = os.path.join('../src')\n",
    "sys.path.append(path)\n",
    "\n",
    "from jma_pytorch_dataset import *"
   ]
  },
  {
   "cell_type": "code",
   "execution_count": 46,
   "metadata": {},
   "outputs": [],
   "source": [
    "data_path = \"../data/data_kanto_aug/\"\n",
    "train_path = \"../data/filelist_triplet_train_JMARadar_nozero.csv\"\n",
    "tdim_use = 12"
   ]
  },
  {
   "cell_type": "code",
   "execution_count": 47,
   "metadata": {},
   "outputs": [],
   "source": [
    "train_dataset = JMARadarDataset3(root_dir=data_path,\n",
    "                                            csv_file=train_path,\n",
    "                                            tdim_use=tdim_use,\n",
    "                                            randinit=True,\n",
    "                                            transform=None)"
   ]
  },
  {
   "cell_type": "code",
   "execution_count": 48,
   "metadata": {},
   "outputs": [],
   "source": [
    "batch_size = 10\n",
    "n_threads = 4"
   ]
  },
  {
   "cell_type": "code",
   "execution_count": 49,
   "metadata": {},
   "outputs": [],
   "source": [
    " train_loader = torch.utils.data.DataLoader(dataset=train_dataset,\n",
    "                                                   batch_size=batch_size,\n",
    "                                                   num_workers=n_threads,\n",
    "                                                   drop_last=True,\n",
    "                                                   shuffle=True)"
   ]
  },
  {
   "cell_type": "code",
   "execution_count": 50,
   "metadata": {},
   "outputs": [],
   "source": [
    "dd = next(iter(train_dataset))"
   ]
  },
  {
   "cell_type": "code",
   "execution_count": 51,
   "metadata": {},
   "outputs": [
    {
     "data": {
      "text/plain": [
       "dict"
      ]
     },
     "execution_count": 51,
     "metadata": {},
     "output_type": "execute_result"
    }
   ],
   "source": [
    "type(dd)"
   ]
  },
  {
   "cell_type": "code",
   "execution_count": 52,
   "metadata": {},
   "outputs": [
    {
     "data": {
      "text/plain": [
       "'2p-jmaradar5_2015-01-01_0000utc.h5'"
      ]
     },
     "execution_count": 52,
     "metadata": {},
     "output_type": "execute_result"
    }
   ],
   "source": [
    "dd['fnames_past']"
   ]
  },
  {
   "cell_type": "code",
   "execution_count": 54,
   "metadata": {},
   "outputs": [
    {
     "data": {
      "text/plain": [
       "numpy.ndarray"
      ]
     },
     "execution_count": 54,
     "metadata": {},
     "output_type": "execute_result"
    }
   ],
   "source": [
    "type(dd['past'])"
   ]
  },
  {
   "cell_type": "markdown",
   "metadata": {},
   "source": [
    "## Data Augmentation"
   ]
  },
  {
   "cell_type": "code",
   "execution_count": 108,
   "metadata": {},
   "outputs": [
    {
     "data": {
      "text/plain": [
       "RandomRotation(degrees=(-30, 30), resample=False, expand=False)"
      ]
     },
     "execution_count": 108,
     "metadata": {},
     "output_type": "execute_result"
    }
   ],
   "source": [
    "transforms.RandomRotation(degrees=30)"
   ]
  },
  {
   "cell_type": "code",
   "execution_count": 239,
   "metadata": {},
   "outputs": [],
   "source": [
    "from scipy.ndimage.interpolation import rotate,zoom"
   ]
  },
  {
   "cell_type": "code",
   "execution_count": 240,
   "metadata": {},
   "outputs": [],
   "source": [
    "import matplotlib.pyplot as plt"
   ]
  },
  {
   "cell_type": "code",
   "execution_count": 284,
   "metadata": {},
   "outputs": [],
   "source": [
    "class RandomRotateVideo(object):\n",
    "    \"\"\"RandomRotate for Video Data\n",
    "\n",
    "    Args:\n",
    "        degrees (float): Rotation Angle\n",
    "    \"\"\"\n",
    "    def __init__(self, degrees):\n",
    "        self.degrees = degrees\n",
    "\n",
    "    def __call__(self, sample):\n",
    "        past, future = sample['past'], sample['future']\n",
    "        degree = (np.random.rand()-0.5)*self.degrees*2\n",
    "        past= rotate(past,degree,axes=(2,3),reshape=False)\n",
    "        future= rotate(future,degree,axes=(2,3),reshape=False)\n",
    "        return {'past': past, 'future': future}"
   ]
  },
  {
   "cell_type": "code",
   "execution_count": 285,
   "metadata": {},
   "outputs": [],
   "source": [
    "class RandomResizeVideo(object):\n",
    "    \"\"\"RandomRotate for Video Data\n",
    "\n",
    "    Args:\n",
    "        degrees (float): Rotation Angle\n",
    "    \"\"\"\n",
    "    def __init__(self, factor):\n",
    "        self.factor = factor\n",
    "\n",
    "    def __call__(self, sample):\n",
    "        past, future = sample['past'], sample['future']\n",
    "        size1,size2 = past.shape[2],past.shape[3]\n",
    "        z1 = 1 + np.random.rand()*self.factor\n",
    "        z2 = 1 + np.random.rand()*self.factor\n",
    "        #print(\"z1,z2=\",z1,z2)\n",
    "        past= zoom(past,zoom=[1,1,z1,z2])\n",
    "        future= zoom(future,zoom=[1,1,z1,z2])\n",
    "        past= past[:,:,0:size1,0:size2]\n",
    "        future= future[:,:,0:size1,0:size2]\n",
    "        return {'past': past, 'future': future}"
   ]
  },
  {
   "cell_type": "code",
   "execution_count": 286,
   "metadata": {},
   "outputs": [],
   "source": [
    "Rot = RandomRotateVideo(degrees=0)\n",
    "Resize = RandomResizeVideo(factor=0.1)"
   ]
  },
  {
   "cell_type": "code",
   "execution_count": 287,
   "metadata": {},
   "outputs": [],
   "source": [
    "composed = transforms.Compose([Rot,Resize])"
   ]
  },
  {
   "cell_type": "code",
   "execution_count": 288,
   "metadata": {},
   "outputs": [],
   "source": [
    "train_dataset = JMARadarDataset3(root_dir=data_path,\n",
    "                                            csv_file=train_path,\n",
    "                                            tdim_use=tdim_use,\n",
    "                                            randinit=False,\n",
    "                                            transform=None)"
   ]
  },
  {
   "cell_type": "code",
   "execution_count": 289,
   "metadata": {},
   "outputs": [
    {
     "name": "stdout",
     "output_type": "stream",
     "text": [
      "past filename: 2p-jmaradar5_2015-01-01_0000utc.h5\n"
     ]
    }
   ],
   "source": [
    "dd = next(iter(train_dataset))\n",
    "print('past filename:',dd[\"fnames_past\"])\n",
    "rain = dd['past'][:,0,:,:]"
   ]
  },
  {
   "cell_type": "code",
   "execution_count": 290,
   "metadata": {},
   "outputs": [
    {
     "data": {
      "text/plain": [
       "6.75"
      ]
     },
     "execution_count": 290,
     "metadata": {},
     "output_type": "execute_result"
    }
   ],
   "source": [
    "np.max(rain)"
   ]
  },
  {
   "cell_type": "code",
   "execution_count": 291,
   "metadata": {},
   "outputs": [
    {
     "data": {
      "text/plain": [
       "<matplotlib.image.AxesImage at 0x7f500ea68cd0>"
      ]
     },
     "execution_count": 291,
     "metadata": {},
     "output_type": "execute_result"
    },
    {
     "data": {
      "image/png": "[encoded data removed]",
      "text/plain": [
       "<Figure size 432x288 with 1 Axes>"
      ]
     },
     "metadata": {
      "needs_background": "light"
     },
     "output_type": "display_data"
    }
   ],
   "source": [
    "plt.imshow(dd['past'][0,0,:,:])"
   ]
  },
  {
   "cell_type": "code",
   "execution_count": 297,
   "metadata": {},
   "outputs": [],
   "source": [
    "Rot = RandomRotateVideo(degrees=0)\n",
    "Resize = RandomResizeVideo(factor=0.3)\n",
    "composed = transforms.Compose([Rot,Resize])\n",
    "train_dataset = JMARadarDataset3(root_dir=data_path,\n",
    "                                            csv_file=train_path,\n",
    "                                            tdim_use=tdim_use,\n",
    "                                            randinit=False,\n",
    "                                            transform=composed)"
   ]
  },
  {
   "cell_type": "code",
   "execution_count": 298,
   "metadata": {},
   "outputs": [
    {
     "name": "stdout",
     "output_type": "stream",
     "text": [
      "z1,z2= 1.0109528238044916 1.052977622880658\n"
     ]
    }
   ],
   "source": [
    "dd = next(iter(train_dataset))\n",
    "#print('past filename:',dd[\"fnames_past\"])\n",
    "rain = dd['past'][:,0,:,:]"
   ]
  },
  {
   "cell_type": "code",
   "execution_count": 299,
   "metadata": {},
   "outputs": [
    {
     "data": {
      "text/plain": [
       "(12, 200, 200)"
      ]
     },
     "execution_count": 299,
     "metadata": {},
     "output_type": "execute_result"
    }
   ],
   "source": [
    "rain.shape"
   ]
  },
  {
   "cell_type": "code",
   "execution_count": 300,
   "metadata": {},
   "outputs": [
    {
     "data": {
      "text/plain": [
       "6.175102"
      ]
     },
     "execution_count": 300,
     "metadata": {},
     "output_type": "execute_result"
    }
   ],
   "source": [
    "np.max(rain)"
   ]
  },
  {
   "cell_type": "code",
   "execution_count": 301,
   "metadata": {},
   "outputs": [
    {
     "data": {
      "text/plain": [
       "<matplotlib.image.AxesImage at 0x7f500eb1bd90>"
      ]
     },
     "execution_count": 301,
     "metadata": {},
     "output_type": "execute_result"
    },
    {
     "data": {
      "image/png": "[encoded data removed]",
      "text/plain": [
       "<Figure size 432x288 with 1 Axes>"
      ]
     },
     "metadata": {
      "needs_background": "light"
     },
     "output_type": "display_data"
    }
   ],
   "source": [
    "plt.imshow(dd['past'][0,0,:,:])"
   ]
  },
  {
   "cell_type": "code",
   "execution_count": 105,
   "metadata": {},
   "outputs": [],
   "source": [
    "h5_name_X = \"../data/data_kanto_aug/2p-jmaradar5_2015-01-01_0000utc.h5\"\n",
    "h5file = h5py.File(h5_name_X,'r')\n",
    "rain_X = h5file['R'][()]\n",
    "#rain_X = np.maximum(rain_X,0) # replace negative value with 0\n",
    "#rain_X = rain_X[-self.tdim_use:,None,:,:] # add \"channel\" dimension as 1"
   ]
  },
  {
   "cell_type": "code",
   "execution_count": 106,
   "metadata": {},
   "outputs": [
    {
     "data": {
      "text/plain": [
       "41.5"
      ]
     },
     "execution_count": 106,
     "metadata": {},
     "output_type": "execute_result"
    }
   ],
   "source": [
    "np.max(rain_X)"
   ]
  },
  {
   "cell_type": "code",
   "execution_count": 107,
   "metadata": {},
   "outputs": [
    {
     "data": {
      "text/plain": [
       "(12, 400, 400)"
      ]
     },
     "execution_count": 107,
     "metadata": {},
     "output_type": "execute_result"
    }
   ],
   "source": [
    "rain_X.shape"
   ]
  },
  {
   "cell_type": "code",
   "execution_count": null,
   "metadata": {},
   "outputs": [],
   "source": []
  }
 ],
 "metadata": {
  "kernelspec": {
   "display_name": "Python 3",
   "language": "python",
   "name": "python3"
  },
  "language_info": {
   "codemirror_mode": {
    "name": "ipython",
    "version": 3
   },
   "file_extension": ".py",
   "mimetype": "text/x-python",
   "name": "python",
   "nbconvert_exporter": "python",
   "pygments_lexer": "ipython3",
   "version": "3.7.7"
  }
 },
 "nbformat": 4,
 "nbformat_minor": 4
}

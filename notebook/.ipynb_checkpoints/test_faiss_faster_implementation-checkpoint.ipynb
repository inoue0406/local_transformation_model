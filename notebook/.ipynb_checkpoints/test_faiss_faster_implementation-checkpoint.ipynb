{
 "cells": [
  {
   "cell_type": "markdown",
   "metadata": {},
   "source": [
    "# test for interpolation routine with feiss GPU"
   ]
  },
  {
   "cell_type": "code",
   "execution_count": 39,
   "metadata": {},
   "outputs": [],
   "source": [
    "from torch import nn\n",
    "import torch.nn.functional as F\n",
    "import torch\n",
    "import os\n",
    "import sys\n",
    "import matplotlib.pyplot as plt"
   ]
  },
  {
   "cell_type": "code",
   "execution_count": 7,
   "metadata": {},
   "outputs": [],
   "source": [
    "# -----------------------------\n",
    "# add \"src\" as import path\n",
    "path = os.path.join('/home/tsuyoshi/local_transformation_model/src/')\n",
    "sys.path.append(path)"
   ]
  },
  {
   "cell_type": "code",
   "execution_count": 8,
   "metadata": {},
   "outputs": [],
   "source": [
    "import numpy as np\n",
    "#from src_rev_bilinear.rev_bilinear_interp import RevBilinear\n",
    "from nearest_neighbor_interp import nearest_neighbor_interp_fe"
   ]
  },
  {
   "cell_type": "code",
   "execution_count": 10,
   "metadata": {},
   "outputs": [],
   "source": [
    "def grid_to_pc_nearest(R_grd,XY_pc,XY_grd):\n",
    "    # convert grid to pc\n",
    "    # R_grd: grid value with [batch,channels,height,width] dim\n",
    "    # XY_pc: point cloud position with [batch,2,N] dim\n",
    "    #        scaled to [0,1]\n",
    "    batch,k,height,width = R_grd.shape\n",
    "    XY_grd_tmp = XY_grd.reshape(batch,2,height*width).permute(0,2,1).detach()\n",
    "    XY_pc_tmp = XY_pc.permute(0,2,1).detach()\n",
    "    R_grd_tmp = R_grd.reshape(batch,k,height*width)\n",
    "    #R_pc = nearest_neighbor_interp(XY_pc_tmp,XY_grd_tmp,R_grd_tmp)\n",
    "    #R_pc = nearest_neighbor_interp_kd(XY_pc_tmp,XY_grd_tmp,R_grd_tmp)\n",
    "    R_pc = nearest_neighbor_interp_fe(XY_pc_tmp,XY_grd_tmp,R_grd_tmp)\n",
    "    #import pdb;pdb.set_trace()\n",
    "    return R_pc"
   ]
  },
  {
   "cell_type": "code",
   "execution_count": 12,
   "metadata": {},
   "outputs": [],
   "source": [
    "def pc_to_grid_nearest(R_pc,XY_pc,XY_grd):\n",
    "    # convert pc to grid\n",
    "    # R_pc: point cloud value with [batch,channels,N] dim\n",
    "    # XY_pc: point cloud position with [batch,2,N] dim\n",
    "    #        scaled to [0,1]\n",
    "    batch,_,height,width = XY_grd.shape\n",
    "    _,k,_ = R_pc.shape\n",
    "    XY_grd_tmp = XY_grd.reshape(batch,2,height*width).permute(0,2,1).detach()\n",
    "    XY_pc_tmp = XY_pc.permute(0,2,1).detach()\n",
    "    #R_grd = nearest_neighbor_interp(XY_grd_tmp,XY_pc_tmp,R_pc)\n",
    "    #R_grd = nearest_neighbor_interp_kd(XY_grd_tmp,XY_pc_tmp,R_pc)\n",
    "    #R_grd = nearest_neighbor_interp_kd(XY_pc_tmp,XY_grd_tmp,R_pc)\n",
    "    R_grd = nearest_neighbor_interp_fe(XY_grd_tmp,XY_pc_tmp,R_pc)\n",
    "    #import pdb;pdb.set_trace()\n",
    "    R_grd = R_grd.reshape(batch,k,height,width)\n",
    "    return R_grd"
   ]
  },
  {
   "cell_type": "markdown",
   "metadata": {},
   "source": [
    "## Dims"
   ]
  },
  {
   "cell_type": "code",
   "execution_count": 24,
   "metadata": {},
   "outputs": [],
   "source": [
    "bsize = 10\n",
    "tsize = 12\n",
    "channels = 1\n",
    "# Grid Size\n",
    "#height = 10\n",
    "#width = 10\n",
    "height = 200\n",
    "width = 200\n",
    "# Particle Size\n",
    "npc = 70"
   ]
  },
  {
   "cell_type": "code",
   "execution_count": 21,
   "metadata": {},
   "outputs": [],
   "source": [
    "def xy_grid(height,width):\n",
    "    # generate constant xy grid\n",
    "    x1grd = torch.linspace(0,1,width).cuda() # 1d grid\n",
    "    y1grd = torch.linspace(0,1,height).cuda() # 1d grid\n",
    "\n",
    "    Xgrid = torch.zeros(height, width)\n",
    "    Ygrid = torch.zeros(height, width)\n",
    "    for j in range(height):\n",
    "        Xgrid[j,:] = x1grd\n",
    "    for k in range(width):\n",
    "        Ygrid[:,k] = y1grd\n",
    "    return Xgrid,Ygrid"
   ]
  },
  {
   "cell_type": "markdown",
   "metadata": {},
   "source": [
    "## Prepare Grids"
   ]
  },
  {
   "cell_type": "code",
   "execution_count": 22,
   "metadata": {},
   "outputs": [],
   "source": [
    "Xgrid,Ygrid = xy_grid(height,width)"
   ]
  },
  {
   "cell_type": "code",
   "execution_count": 49,
   "metadata": {},
   "outputs": [],
   "source": [
    "# Set Initial Grid (which will be fixed through time progress)\n",
    "X_grd = torch.stack(bsize*[Xgrid]).unsqueeze(1)\n",
    "Y_grd = torch.stack(bsize*[Ygrid]).unsqueeze(1)\n",
    "XY_grd = torch.cat([X_grd,Y_grd],dim=1).cuda()\n",
    "# Set Initial PC\n",
    "#XY_pc = torch.zeros(bsize,2,npc).cuda()\n",
    "XY_pc = torch.rand(bsize,2,npc).cuda() #[0-1]"
   ]
  },
  {
   "cell_type": "code",
   "execution_count": 28,
   "metadata": {},
   "outputs": [
    {
     "data": {
      "text/plain": [
       "torch.Size([10, 2, 70])"
      ]
     },
     "execution_count": 28,
     "metadata": {},
     "output_type": "execute_result"
    }
   ],
   "source": [
    "XY_pc.shape"
   ]
  },
  {
   "cell_type": "code",
   "execution_count": 29,
   "metadata": {},
   "outputs": [
    {
     "data": {
      "text/plain": [
       "torch.Size([10, 2, 10, 10])"
      ]
     },
     "execution_count": 29,
     "metadata": {},
     "output_type": "execute_result"
    }
   ],
   "source": [
    "XY_grd.shape"
   ]
  },
  {
   "cell_type": "code",
   "execution_count": 30,
   "metadata": {},
   "outputs": [],
   "source": [
    "# Set initial rain field"
   ]
  },
  {
   "cell_type": "code",
   "execution_count": 66,
   "metadata": {},
   "outputs": [],
   "source": [
    "ic=0.5\n",
    "jc=0.5\n",
    "scale=0.2\n",
    "R_grd = torch.exp(-((X_grd-ic)**2 + (Y_grd-jc)**2)/scale**2)\n",
    "R_grd = R_grd.cuda()"
   ]
  },
  {
   "cell_type": "code",
   "execution_count": 45,
   "metadata": {},
   "outputs": [
    {
     "data": {
      "text/plain": [
       "torch.Size([10, 1, 10, 10])"
      ]
     },
     "execution_count": 45,
     "metadata": {},
     "output_type": "execute_result"
    }
   ],
   "source": [
    "R_grd.shape"
   ]
  },
  {
   "cell_type": "code",
   "execution_count": 46,
   "metadata": {},
   "outputs": [
    {
     "data": {
      "text/plain": [
       "<matplotlib.collections.PathCollection at 0x7f847c877310>"
      ]
     },
     "execution_count": 46,
     "metadata": {},
     "output_type": "execute_result"
    },
    {
     "data": {
      "image/png": "[encoded data removed]",
      "text/plain": [
       "<Figure size 432x288 with 1 Axes>"
      ]
     },
     "metadata": {
      "needs_background": "light"
     },
     "output_type": "display_data"
    }
   ],
   "source": [
    "# test plot for initial grid\n",
    "x = XY_grd[0,0,:].detach().cpu().numpy()\n",
    "y = XY_grd[0,1,:].detach().cpu().numpy()\n",
    "value = R_grd[0,0,:].detach().cpu().numpy()\n",
    "plt.scatter(x, y, c=value, cmap=\"GnBu\", edgecolors=\"black\")\n",
    "x = XY_pc[0,0,:].detach().cpu().numpy()\n",
    "y = XY_pc[0,1,:].detach().cpu().numpy()\n",
    "value = R_pc[0,0,:].detach().cpu().numpy()\n",
    "plt.scatter(x, y, c=value, cmap=\"GnBu\", edgecolors=\"red\")"
   ]
  },
  {
   "cell_type": "code",
   "execution_count": 55,
   "metadata": {},
   "outputs": [],
   "source": [
    "#set UV\n",
    "UV_grd = torch.zeros(bsize,tsize, 2,height, width).cuda()\n",
    "UV_grd = UV_grd + 0.07"
   ]
  },
  {
   "cell_type": "code",
   "execution_count": 80,
   "metadata": {},
   "outputs": [
    {
     "name": "stdout",
     "output_type": "stream",
     "text": [
      "CPU times: user 56.5 ms, sys: 2.61 s, total: 2.67 s\n",
      "Wall time: 2.69 s\n"
     ]
    }
   ],
   "source": [
    "%%time\n",
    "#it = 0\n",
    "# loop through time dim\n",
    "for it in range(tsize):\n",
    "    # convert R and UV to point cloud\n",
    "    UV_pc = grid_to_pc_nearest(UV_grd[:,it,:,:,:],XY_pc,XY_grd)\n",
    "    R_pc = grid_to_pc_nearest(R_grd[:,:,:,:],XY_pc,XY_grd)\n",
    "    # time progress\n",
    "    XY_pc = XY_pc + UV_pc\n",
    "    # go back to grid\n",
    "    R_grd = pc_to_grid_nearest(R_pc,XY_pc,XY_grd)"
   ]
  },
  {
   "cell_type": "code",
   "execution_count": 76,
   "metadata": {},
   "outputs": [
    {
     "data": {
      "text/plain": [
       "12"
      ]
     },
     "execution_count": 76,
     "metadata": {},
     "output_type": "execute_result"
    }
   ],
   "source": [
    "tsize"
   ]
  },
  {
   "cell_type": "code",
   "execution_count": 69,
   "metadata": {},
   "outputs": [],
   "source": []
  },
  {
   "cell_type": "code",
   "execution_count": 71,
   "metadata": {},
   "outputs": [],
   "source": []
  },
  {
   "cell_type": "code",
   "execution_count": 75,
   "metadata": {},
   "outputs": [
    {
     "data": {
      "text/plain": [
       "<matplotlib.collections.PathCollection at 0x7f847c7763d0>"
      ]
     },
     "execution_count": 75,
     "metadata": {},
     "output_type": "execute_result"
    },
    {
     "data": {
      "image/png": "[encoded data removed]",
      "text/plain": [
       "<Figure size 432x288 with 1 Axes>"
      ]
     },
     "metadata": {
      "needs_background": "light"
     },
     "output_type": "display_data"
    }
   ],
   "source": [
    "# test plot for initial grid\n",
    "x = XY_grd[0,0,:].detach().cpu().numpy()\n",
    "y = XY_grd[0,1,:].detach().cpu().numpy()\n",
    "value = R_grd[0,0,:].detach().cpu().numpy()\n",
    "plt.scatter(x, y, c=value, cmap=\"GnBu\", edgecolors=\"black\")\n",
    "x = XY_pc[0,0,:].detach().cpu().numpy()\n",
    "y = XY_pc[0,1,:].detach().cpu().numpy()\n",
    "value = R_pc[0,0,:].detach().cpu().numpy()\n",
    "plt.scatter(x, y, c=value, cmap=\"GnBu\", edgecolors=\"red\")"
   ]
  },
  {
   "cell_type": "code",
   "execution_count": 74,
   "metadata": {},
   "outputs": [
    {
     "data": {
      "text/plain": [
       "torch.Size([10, 2, 10, 10])"
      ]
     },
     "execution_count": 74,
     "metadata": {},
     "output_type": "execute_result"
    }
   ],
   "source": [
    "XY_grd.shape"
   ]
  },
  {
   "cell_type": "code",
   "execution_count": null,
   "metadata": {},
   "outputs": [],
   "source": []
  }
 ],
 "metadata": {
  "kernelspec": {
   "display_name": "Python 3",
   "language": "python",
   "name": "python3"
  },
  "language_info": {
   "codemirror_mode": {
    "name": "ipython",
    "version": 3
   },
   "file_extension": ".py",
   "mimetype": "text/x-python",
   "name": "python",
   "nbconvert_exporter": "python",
   "pygments_lexer": "ipython3",
   "version": "3.7.7"
  }
 },
 "nbformat": 4,
 "nbformat_minor": 4
}
